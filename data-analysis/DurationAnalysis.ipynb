{
 "cells": [
  {
   "cell_type": "markdown",
   "id": "e9c589a9-1714-4850-aff0-506678e8ab2f",
   "metadata": {},
   "source": [
    "# Duration Tests"
   ]
  },
  {
   "cell_type": "markdown",
   "id": "9802af67-8b48-44fd-8444-a455aeceecbd",
   "metadata": {},
   "source": [
    "You can specify a build number in the **current_build** variable to generate a report for a specific build version, or change the **release** variable.\n",
    "\n",
    "With the **parameters** dictionary, you can specify the **os** and the **maximum** data values shown. Changing the **url** to `True` or `False` will determine whether or not data points in the scatter plot willbe clickable. It is noteworthy that starting around 1500 data points, clickable links will cease to work.\n",
    "\n",
    "The **component** key takes a list. When defined, only data where the component matches one of the items in the list will be shown. The **area** key also takes a list. When defined, only data where the area matches one of the items in the list will be shown. Commenting out or deleting one of their lines will remove that filter.\n",
    "\n",
    "example:\n",
    "```\n",
    "parameters = {\n",
    "    \"os\": \"centos\",\n",
    "    \"maximum\": \"15\",\n",
    "    \"component\": [\"ipv6\"],\n",
    "    \"area\": [\"xdcr\", \"2i\", \"eventing\", \"bucket\"],\n",
    "    \"url\": True\n",
    "}\n",
    "```\n",
    "will show the first 15 results of tests under the *ipv6* component with areas or *xdcr, 2i, eventing, or bucket*."
   ]
  },
  {
   "cell_type": "code",
   "execution_count": 86,
   "id": "aa7d74ab",
   "metadata": {
    "tags": []
   },
   "outputs": [],
   "source": [
    "release=\"7.1.0\"\n",
    "current_build=\"\"\n",
    "\n",
    "parameters = {\n",
    "    \"os\": \"centos\",\n",
    "    \"maximum\": \"1500\",\n",
    "    \"component\": [\"durability\"],\n",
    "    \"area\": [\"query\", \"transaction\"],\n",
    "    \"url\": False\n",
    "}"
   ]
  },
  {
   "cell_type": "code",
   "execution_count": 87,
   "id": "a59c0b8e",
   "metadata": {
    "jupyter": {
     "source_hidden": true
    },
    "tags": [
     "hide_input"
    ]
   },
   "outputs": [],
   "source": [
    "import requests\n",
    "import json\n",
    "import webbrowser\n",
    "\n",
    "import pandas as pd\n",
    "import matplotlib.pyplot as plt\n",
    "import seaborn as sns\n",
    "import numpy as np\n",
    "\n",
    "import plotly.express as px\n",
    "import plotly.graph_objects as go\n",
    "import plotly\n",
    "from plotly.offline import *\n",
    "import plotly.figure_factory as ff\n",
    "\n",
    "plt.rcParams['figure.figsize'] = (20.0, 12.0)\n",
    "plt.rcParams['font.family'] = \"serif\""
   ]
  },
  {
   "cell_type": "code",
   "execution_count": 88,
   "id": "7d8fbb79",
   "metadata": {
    "jupyter": {
     "source_hidden": true
    },
    "tags": [
     "hide_input"
    ]
   },
   "outputs": [],
   "source": [
    "def run_query(query, host=\"172.23.99.54\", port=8093, username=\"Administrator\", password=\"password\", param=None):\n",
    "    url_base = f\"http://{host}:{port}/query/service\"\n",
    "    params = {'statement': query, 'scan_consistency': 'REQUEST_PLUS'}\n",
    "    if param:\n",
    "        params.update(param)\n",
    "    response = requests.get(url=url_base, params=params, auth = requests.auth.HTTPBasicAuth(username, password))\n",
    "    return response.json()"
   ]
  },
  {
   "cell_type": "code",
   "execution_count": 89,
   "id": "1bb2eb8e-08fd-47f1-a2ce-f37f78120d5d",
   "metadata": {
    "jupyter": {
     "source_hidden": true
    },
    "tags": []
   },
   "outputs": [],
   "source": [
    "if type(current_build) != type(\"\") or len(str(current_build)) != 4:\n",
    "    query_current_weekly_build = f'SELECT raw `build` FROM server WHERE `build` < \"{release}.\" GROUP BY `build` HAVING sum(totalCount) > 10000 ORDER BY `build` DESC LIMIT 1'\n",
    "    current_result = run_query(query=query_current_weekly_build, param={'$version': f'\"{release}-0000\"'})\n",
    "    current_build = current_result['results'][0].split(\"-\", 1)[1]"
   ]
  },
  {
   "cell_type": "code",
   "execution_count": 90,
   "id": "a495b61a",
   "metadata": {
    "jupyter": {
     "source_hidden": true
    },
    "tags": []
   },
   "outputs": [],
   "source": [
    "def construct_component_query():\n",
    "    if \"component\" in parameters:\n",
    "        component_base = f'(LOWER(component)=' if \"component\" in parameters else \"\"\n",
    "        component_query = f'({component_base}\"{parameters[\"component\"][0]}\") '\n",
    "        if len(parameters[\"component\"]) > 1:\n",
    "            for c in range(1, len(parameters[\"component\"])):\n",
    "                component_query = f'{component_query} OR {component_base}\"{parameters[\"component\"][c]}\")'\n",
    "        component_query = component_query + ') AND'\n",
    "        return component_query\n",
    "    else:\n",
    "        return \"\"\n",
    "    \n",
    "def construct_area_query():\n",
    "    if \"area\" in parameters:\n",
    "        area_base = f'(SPLIT(REPLACE(REPLACE(REPLACE(SPLIT(name,\"-\")[1], \"os_certify_ce_\", \"\"), \"ipv6_\", \"\"), \"os_certify_\", \"\"), \"_\")[0]=' if \"area\" in parameters else \"\"\n",
    "        area_query = f'({area_base}\"{parameters[\"area\"][0]}\") '\n",
    "        if len(parameters[\"area\"]) > 1:\n",
    "            for a in range(1, len(parameters[\"area\"])):\n",
    "                area_query = f'{area_query} OR {area_base}\"{parameters[\"area\"][a]}\")'\n",
    "        area_query = area_query + ') AND'\n",
    "        return area_query\n",
    "    else:\n",
    "        return \"\""
   ]
  },
  {
   "cell_type": "markdown",
   "id": "52397dff-6c1d-40b2-a8d0-d0f0fc62f297",
   "metadata": {},
   "source": [
    "# Scatter Plot"
   ]
  },
  {
   "cell_type": "markdown",
   "id": "ddd7dd6b-e761-48a5-a257-1a168b723cef",
   "metadata": {},
   "source": [
    "This scatter plot will represent the duration of each test over its fail count. Hover near each dot to see more detailed information about it.\n",
    "\n",
    "At the top right of the figure, there will be a toolbar when the cursor is over the graph. Selecting different tools allows the user to notably pan around (Pan), rescale the graph to only show a selected portion (Box Select), reset the graph to its original state (Autoscale or Reset axes), or zoom in and out."
   ]
  },
  {
   "cell_type": "code",
   "execution_count": 91,
   "id": "6f0ead5e",
   "metadata": {
    "jupyter": {
     "source_hidden": true
    },
    "tags": []
   },
   "outputs": [
    {
     "data": {
      "application/vnd.plotly.v1+json": {
       "config": {
        "plotlyServerURL": "https://plot.ly"
       },
       "data": [
        {
         "customdata": [
          [
           "",
           "centos-query_N1qltxn_durability_persistToMajority",
           "DURABILITY"
          ],
          [
           "",
           "centos-query_N1qltxn_durability_persistToMajorityGSI_type=UNDEFINEDbucket_storage=MAGMA",
           "DURABILITY"
          ],
          [
           "",
           "centos-query_N1qltxn_durability_majorityAndPersistActive",
           "DURABILITY"
          ]
         ],
         "hovertemplate": "area=query<br>fail_count=%{x}<br>minutes=%{y}<br>name=%{customdata[1]}<br>component=%{customdata[2]}<extra></extra>",
         "legendgroup": "query",
         "marker": {
          "color": "#636efa",
          "symbol": "circle"
         },
         "mode": "markers+text",
         "name": "query",
         "orientation": "v",
         "showlegend": true,
         "text": [
          "",
          "",
          ""
         ],
         "type": "scatter",
         "x": [
          1,
          1,
          0
         ],
         "xaxis": "x",
         "y": [
          720,
          720,
          720
         ],
         "yaxis": "y"
        },
        {
         "customdata": [
          [
           "",
           "centos-transaction_autofailover_durability_majority_6.5_P0_Set1",
           "DURABILITY"
          ],
          [
           "",
           "centos-transaction_autofailover_durability_majority_and_persist_on_master_6.5_P0_Set1",
           "DURABILITY"
          ],
          [
           "",
           "centos-transaction_autofailover_durability_persist_to_majority_6.5_P0_Set1",
           "DURABILITY"
          ],
          [
           "",
           "centos-transaction_concurrency_durability_majority_6.5_P0_Set1",
           "DURABILITY"
          ],
          [
           "",
           "centos-transaction_concurrency_durability_majority_6.5_P0_Set2",
           "DURABILITY"
          ],
          [
           "",
           "centos-transaction_concurrency_durability_majority_and_persist_on_master_6.5_P0_Set1",
           "DURABILITY"
          ],
          [
           "",
           "centos-transaction_concurrency_durability_persist_to_majority_6.5_P0_Set1",
           "DURABILITY"
          ],
          [
           "",
           "centos-transaction_crash_test_durability_majority_6.5_P0_Set1",
           "DURABILITY"
          ],
          [
           "",
           "centos-transaction_crash_test_durability_majority_6.5_P1",
           "DURABILITY"
          ],
          [
           "",
           "centos-transaction_crash_test_durability_majority_and_persist_on_master_6.5_P0_Set1",
           "DURABILITY"
          ],
          [
           "",
           "centos-transaction_crash_test_durability_majority_and_persist_on_master_6.5_P1",
           "DURABILITY"
          ],
          [
           "",
           "centos-transaction_crash_test_durability_persist_to_majority_6.5_P0_Set1",
           "DURABILITY"
          ],
          [
           "",
           "centos-transaction_crash_test_durability_persist_to_majority_6.5_P1",
           "DURABILITY"
          ],
          [
           "",
           "centos-transaction_diskautofailover_durability_majority_6.5_P0_Set1",
           "DURABILITY"
          ],
          [
           "",
           "centos-transaction_diskautofailover_durability_majority_and_persist_on_master_6.5_P0_Set1",
           "DURABILITY"
          ],
          [
           "",
           "centos-transaction_diskautofailover_durability_persist_to_majority_6.5_P0_Set1",
           "DURABILITY"
          ],
          [
           "",
           "centos-transaction_doc_isolation_durability_majority_6.6_P0",
           "DURABILITY"
          ],
          [
           "",
           "centos-transaction_doc_isolation_durability_majority_6.6_P1",
           "DURABILITY"
          ],
          [
           "",
           "centos-transaction_doc_isolation_durability_majority_and_persist_on_master_6.6_P0",
           "DURABILITY"
          ],
          [
           "",
           "centos-transaction_doc_isolation_durability_majority_and_persist_on_master_6.6_P1",
           "DURABILITY"
          ],
          [
           "",
           "centos-transaction_doc_isolation_durability_persist_to_majority_6.6_P0",
           "DURABILITY"
          ],
          [
           "",
           "centos-transaction_doc_isolation_durability_persist_to_majority_6.6_P1",
           "DURABILITY"
          ],
          [
           "",
           "centos-transaction_durability_majority_and_persist_on_master_auto_retry_P0",
           "DURABILITY"
          ],
          [
           "",
           "centos-transaction_durability_majority_and_persist_on_master_auto_retry_P1",
           "DURABILITY"
          ],
          [
           "",
           "centos-transaction_durability_majority_auto_retry_P0",
           "DURABILITY"
          ],
          [
           "",
           "centos-transaction_durability_majority_auto_retry_P1",
           "DURABILITY"
          ],
          [
           "",
           "centos-transaction_durability_majority_auto_retry_defer_P0",
           "DURABILITY"
          ],
          [
           "",
           "centos-transaction_durability_persist_to_majority_auto_retry_P0",
           "DURABILITY"
          ],
          [
           "",
           "centos-transaction_durability_persist_to_majority_auto_retry_P1",
           "DURABILITY"
          ],
          [
           "",
           "centos-transaction_multi_bucket_durability_majority_6.5_P0",
           "DURABILITY"
          ],
          [
           "",
           "centos-transaction_multi_bucket_durability_majority_6.5_P0_Set1",
           "DURABILITY"
          ],
          [
           "",
           "centos-transaction_multi_bucket_durability_majority_6.5_P0_Set2",
           "DURABILITY"
          ],
          [
           "",
           "centos-transaction_multi_bucket_durability_majority_and_persist_on_master_6.5_P0",
           "DURABILITY"
          ],
          [
           "",
           "centos-transaction_multi_bucket_durability_majority_defer_6.5_P0",
           "DURABILITY"
          ],
          [
           "",
           "centos-transaction_multi_bucket_durability_majority_defer_6.5_P0_Set1",
           "DURABILITY"
          ],
          [
           "",
           "centos-transaction_multi_bucket_durability_majority_defer_6.5_P0_Set2",
           "DURABILITY"
          ],
          [
           "",
           "centos-transaction_multi_bucket_durability_persist_to_majority_6.5_P0",
           "DURABILITY"
          ],
          [
           "",
           "centos-transaction_newfailover_durability_majority_6.5_P0",
           "DURABILITY"
          ],
          [
           "",
           "centos-transaction_newfailover_durability_majority_6.5_P0_Set1",
           "DURABILITY"
          ],
          [
           "",
           "centos-transaction_newfailover_durability_majority_and_persist_on_master_6.5_P0_Set1",
           "DURABILITY"
          ],
          [
           "",
           "centos-transaction_newfailover_durability_persist_to_majority_6.5_P0_Set1",
           "DURABILITY"
          ],
          [
           "",
           "centos-transaction_param_update_durability_majority_6.5_P0_Set1",
           "DURABILITY"
          ],
          [
           "",
           "centos-transaction_param_update_durability_majority_and_persist_on_master_6.5_P0_Set1",
           "DURABILITY"
          ],
          [
           "",
           "centos-transaction_param_update_durability_persist_to_majority_6.5_P0_Set1",
           "DURABILITY"
          ],
          [
           "",
           "centos-transaction_rebalance_in_durability_majority_6.5_P0_Set1",
           "DURABILITY"
          ],
          [
           "",
           "centos-transaction_rebalance_in_durability_majority_and_persist_on_master_6.5_P0_Set1",
           "DURABILITY"
          ],
          [
           "",
           "centos-transaction_rebalance_in_durability_majority_defer_6.5_P0_Set1",
           "DURABILITY"
          ],
          [
           "",
           "centos-transaction_rebalance_in_durability_persist_to_majority_6.5_P0_Set1",
           "DURABILITY"
          ],
          [
           "",
           "centos-transaction_rebalance_in_out_durability_majority_6.5_P0",
           "DURABILITY"
          ],
          [
           "",
           "centos-transaction_steady_state_durability_persist_to_majority_retry_6.5_P0",
           "DURABILITY"
          ],
          [
           "",
           "centos-transaction_rebalance_in_out_durability_majority_and_persist_on_master_6.5_P0_Set1",
           "DURABILITY"
          ],
          [
           "",
           "centos-transaction_rebalance_out_durability_majority_and_persist_on_master_6.5_P0_Set1",
           "DURABILITY"
          ],
          [
           "",
           "centos-transaction_steady_state_durability_majority_and_persist_on_master_retry_6.5_P0",
           "DURABILITY"
          ],
          [
           "",
           "centos-transaction_rebalance_out_durability_majority_defer_6.5_P0_Set1",
           "DURABILITY"
          ],
          [
           "",
           "centos-transaction_steady_state_durability_majority_and_persist_on_master_6.5_P0",
           "DURABILITY"
          ],
          [
           "",
           "centos-transaction_steady_state_durability_majority_and_persist_on_master_defer_6.5_P0",
           "DURABILITY"
          ],
          [
           "",
           "centos-transaction_steady_state_durability_majority_defer_6.5_P0",
           "DURABILITY"
          ],
          [
           "",
           "centos-transaction_steady_state_durability_persist_to_majority_defer_6.5_P0",
           "DURABILITY"
          ],
          [
           "",
           "centos-transaction_steady_state_durability_persist_to_majority_6.5_P0",
           "DURABILITY"
          ],
          [
           "",
           "centos-transaction_swap_rebalance_durability_majority_6.5_P0_Set1",
           "DURABILITY"
          ],
          [
           "",
           "centos-transaction_steady_state_durability_majority_retry_6.5_P0",
           "DURABILITY"
          ],
          [
           "",
           "centos-transaction_rebalance_out_durability_majority_6.5_P0",
           "DURABILITY"
          ],
          [
           "",
           "centos-transaction_rebalance_out_durability_persist_to_majority_6.5_P0_Set1",
           "DURABILITY"
          ],
          [
           "",
           "centos-transaction_steady_state_durability_majority_6.5_P0",
           "DURABILITY"
          ],
          [
           "",
           "centos-transaction_swap_rebalance_durability_majority_and_persist_on_master_6.5_P0_Set1",
           "DURABILITY"
          ],
          [
           "",
           "centos-transaction_rebalance_in_out_durability_majority_6.5_P0_Set1",
           "DURABILITY"
          ],
          [
           "",
           "centos-transaction_rebalance_in_out_durability_persist_to_majority_6.5_P0_Set1",
           "DURABILITY"
          ],
          [
           "",
           "centos-transaction_rebalance_in_out_durability_majority_defer_6.5_P0_Set1",
           "DURABILITY"
          ],
          [
           "",
           "centos-transaction_steady_state_diff_doc_size_durability_majority_6.5_P0",
           "DURABILITY"
          ],
          [
           "",
           "centos-transaction_steady_state_diff_doc_size_durability_majority_6.5_P0_Set1",
           "DURABILITY"
          ],
          [
           "",
           "centos-transaction_swap_rebalance_durability_persist_to_majority_6.5_P0_Set1",
           "DURABILITY"
          ],
          [
           "",
           "centos-transaction_rebalancein_6.5_durability_majority_P0",
           "DURABILITY"
          ],
          [
           "",
           "centos-transaction_swap_rebalance_durability_majority_6.5_P0",
           "DURABILITY"
          ],
          [
           "",
           "centos-transaction_rebalance_out_durability_majority_6.5_P0_Set1",
           "DURABILITY"
          ]
         ],
         "hovertemplate": "area=transaction<br>fail_count=%{x}<br>minutes=%{y}<br>name=%{customdata[1]}<br>component=%{customdata[2]}<extra></extra>",
         "legendgroup": "transaction",
         "marker": {
          "color": "#EF553B",
          "symbol": "circle"
         },
         "mode": "markers+text",
         "name": "transaction",
         "orientation": "v",
         "showlegend": true,
         "text": [
          "",
          "",
          "",
          "",
          "",
          "",
          "",
          "",
          "",
          "",
          "",
          "",
          "",
          "",
          "",
          "",
          "",
          "",
          "",
          "",
          "",
          "",
          "",
          "",
          "",
          "",
          "",
          "",
          "",
          "",
          "",
          "",
          "",
          "",
          "",
          "",
          "",
          "",
          "",
          "",
          "",
          "",
          "",
          "",
          "",
          "",
          "",
          "",
          "",
          "",
          "",
          "",
          "",
          "",
          "",
          "",
          "",
          "",
          "",
          "",
          "",
          "",
          "",
          "",
          "",
          "",
          "",
          "",
          "",
          "",
          "",
          "",
          "",
          ""
         ],
         "type": "scatter",
         "x": [
          0,
          0,
          0,
          1,
          0,
          1,
          1,
          0,
          0,
          0,
          0,
          0,
          0,
          0,
          1,
          0,
          0,
          0,
          0,
          0,
          0,
          1,
          2,
          1,
          0,
          0,
          4,
          0,
          0,
          8,
          0,
          0,
          8,
          25,
          0,
          0,
          8,
          0,
          0,
          0,
          0,
          0,
          0,
          0,
          0,
          0,
          2,
          0,
          0,
          4,
          1,
          0,
          4,
          2,
          0,
          0,
          0,
          0,
          0,
          4,
          3,
          0,
          0,
          0,
          1,
          0,
          0,
          1,
          0,
          0,
          2,
          0,
          0,
          0
         ],
         "xaxis": "x",
         "y": [
          34,
          37,
          45,
          720,
          720,
          720,
          720,
          150,
          79,
          62,
          80,
          73,
          208,
          455,
          259,
          276,
          53,
          720,
          53,
          720,
          64,
          720,
          98,
          197,
          116,
          111,
          117,
          144,
          126,
          720,
          70,
          81,
          720,
          112,
          78,
          100,
          720,
          10,
          36,
          36,
          37,
          60,
          65,
          60,
          55,
          55,
          101,
          61,
          29,
          121,
          77,
          53,
          56,
          42,
          261,
          39,
          25,
          42,
          178,
          208,
          145,
          16,
          51,
          48,
          128,
          55,
          65,
          77,
          58,
          34,
          97,
          19,
          20,
          34
         ],
         "yaxis": "y"
        }
       ],
       "layout": {
        "autosize": true,
        "legend": {
         "title": {
          "text": "area"
         },
         "tracegroupgap": 0
        },
        "margin": {
         "t": 60
        },
        "template": {
         "data": {
          "bar": [
           {
            "error_x": {
             "color": "#2a3f5f"
            },
            "error_y": {
             "color": "#2a3f5f"
            },
            "marker": {
             "line": {
              "color": "#E5ECF6",
              "width": 0.5
             },
             "pattern": {
              "fillmode": "overlay",
              "size": 10,
              "solidity": 0.2
             }
            },
            "type": "bar"
           }
          ],
          "barpolar": [
           {
            "marker": {
             "line": {
              "color": "#E5ECF6",
              "width": 0.5
             },
             "pattern": {
              "fillmode": "overlay",
              "size": 10,
              "solidity": 0.2
             }
            },
            "type": "barpolar"
           }
          ],
          "carpet": [
           {
            "aaxis": {
             "endlinecolor": "#2a3f5f",
             "gridcolor": "white",
             "linecolor": "white",
             "minorgridcolor": "white",
             "startlinecolor": "#2a3f5f"
            },
            "baxis": {
             "endlinecolor": "#2a3f5f",
             "gridcolor": "white",
             "linecolor": "white",
             "minorgridcolor": "white",
             "startlinecolor": "#2a3f5f"
            },
            "type": "carpet"
           }
          ],
          "choropleth": [
           {
            "colorbar": {
             "outlinewidth": 0,
             "ticks": ""
            },
            "type": "choropleth"
           }
          ],
          "contour": [
           {
            "colorbar": {
             "outlinewidth": 0,
             "ticks": ""
            },
            "colorscale": [
             [
              0,
              "#0d0887"
             ],
             [
              0.1111111111111111,
              "#46039f"
             ],
             [
              0.2222222222222222,
              "#7201a8"
             ],
             [
              0.3333333333333333,
              "#9c179e"
             ],
             [
              0.4444444444444444,
              "#bd3786"
             ],
             [
              0.5555555555555556,
              "#d8576b"
             ],
             [
              0.6666666666666666,
              "#ed7953"
             ],
             [
              0.7777777777777778,
              "#fb9f3a"
             ],
             [
              0.8888888888888888,
              "#fdca26"
             ],
             [
              1,
              "#f0f921"
             ]
            ],
            "type": "contour"
           }
          ],
          "contourcarpet": [
           {
            "colorbar": {
             "outlinewidth": 0,
             "ticks": ""
            },
            "type": "contourcarpet"
           }
          ],
          "heatmap": [
           {
            "colorbar": {
             "outlinewidth": 0,
             "ticks": ""
            },
            "colorscale": [
             [
              0,
              "#0d0887"
             ],
             [
              0.1111111111111111,
              "#46039f"
             ],
             [
              0.2222222222222222,
              "#7201a8"
             ],
             [
              0.3333333333333333,
              "#9c179e"
             ],
             [
              0.4444444444444444,
              "#bd3786"
             ],
             [
              0.5555555555555556,
              "#d8576b"
             ],
             [
              0.6666666666666666,
              "#ed7953"
             ],
             [
              0.7777777777777778,
              "#fb9f3a"
             ],
             [
              0.8888888888888888,
              "#fdca26"
             ],
             [
              1,
              "#f0f921"
             ]
            ],
            "type": "heatmap"
           }
          ],
          "heatmapgl": [
           {
            "colorbar": {
             "outlinewidth": 0,
             "ticks": ""
            },
            "colorscale": [
             [
              0,
              "#0d0887"
             ],
             [
              0.1111111111111111,
              "#46039f"
             ],
             [
              0.2222222222222222,
              "#7201a8"
             ],
             [
              0.3333333333333333,
              "#9c179e"
             ],
             [
              0.4444444444444444,
              "#bd3786"
             ],
             [
              0.5555555555555556,
              "#d8576b"
             ],
             [
              0.6666666666666666,
              "#ed7953"
             ],
             [
              0.7777777777777778,
              "#fb9f3a"
             ],
             [
              0.8888888888888888,
              "#fdca26"
             ],
             [
              1,
              "#f0f921"
             ]
            ],
            "type": "heatmapgl"
           }
          ],
          "histogram": [
           {
            "marker": {
             "pattern": {
              "fillmode": "overlay",
              "size": 10,
              "solidity": 0.2
             }
            },
            "type": "histogram"
           }
          ],
          "histogram2d": [
           {
            "colorbar": {
             "outlinewidth": 0,
             "ticks": ""
            },
            "colorscale": [
             [
              0,
              "#0d0887"
             ],
             [
              0.1111111111111111,
              "#46039f"
             ],
             [
              0.2222222222222222,
              "#7201a8"
             ],
             [
              0.3333333333333333,
              "#9c179e"
             ],
             [
              0.4444444444444444,
              "#bd3786"
             ],
             [
              0.5555555555555556,
              "#d8576b"
             ],
             [
              0.6666666666666666,
              "#ed7953"
             ],
             [
              0.7777777777777778,
              "#fb9f3a"
             ],
             [
              0.8888888888888888,
              "#fdca26"
             ],
             [
              1,
              "#f0f921"
             ]
            ],
            "type": "histogram2d"
           }
          ],
          "histogram2dcontour": [
           {
            "colorbar": {
             "outlinewidth": 0,
             "ticks": ""
            },
            "colorscale": [
             [
              0,
              "#0d0887"
             ],
             [
              0.1111111111111111,
              "#46039f"
             ],
             [
              0.2222222222222222,
              "#7201a8"
             ],
             [
              0.3333333333333333,
              "#9c179e"
             ],
             [
              0.4444444444444444,
              "#bd3786"
             ],
             [
              0.5555555555555556,
              "#d8576b"
             ],
             [
              0.6666666666666666,
              "#ed7953"
             ],
             [
              0.7777777777777778,
              "#fb9f3a"
             ],
             [
              0.8888888888888888,
              "#fdca26"
             ],
             [
              1,
              "#f0f921"
             ]
            ],
            "type": "histogram2dcontour"
           }
          ],
          "mesh3d": [
           {
            "colorbar": {
             "outlinewidth": 0,
             "ticks": ""
            },
            "type": "mesh3d"
           }
          ],
          "parcoords": [
           {
            "line": {
             "colorbar": {
              "outlinewidth": 0,
              "ticks": ""
             }
            },
            "type": "parcoords"
           }
          ],
          "pie": [
           {
            "automargin": true,
            "type": "pie"
           }
          ],
          "scatter": [
           {
            "marker": {
             "colorbar": {
              "outlinewidth": 0,
              "ticks": ""
             }
            },
            "type": "scatter"
           }
          ],
          "scatter3d": [
           {
            "line": {
             "colorbar": {
              "outlinewidth": 0,
              "ticks": ""
             }
            },
            "marker": {
             "colorbar": {
              "outlinewidth": 0,
              "ticks": ""
             }
            },
            "type": "scatter3d"
           }
          ],
          "scattercarpet": [
           {
            "marker": {
             "colorbar": {
              "outlinewidth": 0,
              "ticks": ""
             }
            },
            "type": "scattercarpet"
           }
          ],
          "scattergeo": [
           {
            "marker": {
             "colorbar": {
              "outlinewidth": 0,
              "ticks": ""
             }
            },
            "type": "scattergeo"
           }
          ],
          "scattergl": [
           {
            "marker": {
             "colorbar": {
              "outlinewidth": 0,
              "ticks": ""
             }
            },
            "type": "scattergl"
           }
          ],
          "scattermapbox": [
           {
            "marker": {
             "colorbar": {
              "outlinewidth": 0,
              "ticks": ""
             }
            },
            "type": "scattermapbox"
           }
          ],
          "scatterpolar": [
           {
            "marker": {
             "colorbar": {
              "outlinewidth": 0,
              "ticks": ""
             }
            },
            "type": "scatterpolar"
           }
          ],
          "scatterpolargl": [
           {
            "marker": {
             "colorbar": {
              "outlinewidth": 0,
              "ticks": ""
             }
            },
            "type": "scatterpolargl"
           }
          ],
          "scatterternary": [
           {
            "marker": {
             "colorbar": {
              "outlinewidth": 0,
              "ticks": ""
             }
            },
            "type": "scatterternary"
           }
          ],
          "surface": [
           {
            "colorbar": {
             "outlinewidth": 0,
             "ticks": ""
            },
            "colorscale": [
             [
              0,
              "#0d0887"
             ],
             [
              0.1111111111111111,
              "#46039f"
             ],
             [
              0.2222222222222222,
              "#7201a8"
             ],
             [
              0.3333333333333333,
              "#9c179e"
             ],
             [
              0.4444444444444444,
              "#bd3786"
             ],
             [
              0.5555555555555556,
              "#d8576b"
             ],
             [
              0.6666666666666666,
              "#ed7953"
             ],
             [
              0.7777777777777778,
              "#fb9f3a"
             ],
             [
              0.8888888888888888,
              "#fdca26"
             ],
             [
              1,
              "#f0f921"
             ]
            ],
            "type": "surface"
           }
          ],
          "table": [
           {
            "cells": {
             "fill": {
              "color": "#EBF0F8"
             },
             "line": {
              "color": "white"
             }
            },
            "header": {
             "fill": {
              "color": "#C8D4E3"
             },
             "line": {
              "color": "white"
             }
            },
            "type": "table"
           }
          ]
         },
         "layout": {
          "annotationdefaults": {
           "arrowcolor": "#2a3f5f",
           "arrowhead": 0,
           "arrowwidth": 1
          },
          "autotypenumbers": "strict",
          "coloraxis": {
           "colorbar": {
            "outlinewidth": 0,
            "ticks": ""
           }
          },
          "colorscale": {
           "diverging": [
            [
             0,
             "#8e0152"
            ],
            [
             0.1,
             "#c51b7d"
            ],
            [
             0.2,
             "#de77ae"
            ],
            [
             0.3,
             "#f1b6da"
            ],
            [
             0.4,
             "#fde0ef"
            ],
            [
             0.5,
             "#f7f7f7"
            ],
            [
             0.6,
             "#e6f5d0"
            ],
            [
             0.7,
             "#b8e186"
            ],
            [
             0.8,
             "#7fbc41"
            ],
            [
             0.9,
             "#4d9221"
            ],
            [
             1,
             "#276419"
            ]
           ],
           "sequential": [
            [
             0,
             "#0d0887"
            ],
            [
             0.1111111111111111,
             "#46039f"
            ],
            [
             0.2222222222222222,
             "#7201a8"
            ],
            [
             0.3333333333333333,
             "#9c179e"
            ],
            [
             0.4444444444444444,
             "#bd3786"
            ],
            [
             0.5555555555555556,
             "#d8576b"
            ],
            [
             0.6666666666666666,
             "#ed7953"
            ],
            [
             0.7777777777777778,
             "#fb9f3a"
            ],
            [
             0.8888888888888888,
             "#fdca26"
            ],
            [
             1,
             "#f0f921"
            ]
           ],
           "sequentialminus": [
            [
             0,
             "#0d0887"
            ],
            [
             0.1111111111111111,
             "#46039f"
            ],
            [
             0.2222222222222222,
             "#7201a8"
            ],
            [
             0.3333333333333333,
             "#9c179e"
            ],
            [
             0.4444444444444444,
             "#bd3786"
            ],
            [
             0.5555555555555556,
             "#d8576b"
            ],
            [
             0.6666666666666666,
             "#ed7953"
            ],
            [
             0.7777777777777778,
             "#fb9f3a"
            ],
            [
             0.8888888888888888,
             "#fdca26"
            ],
            [
             1,
             "#f0f921"
            ]
           ]
          },
          "colorway": [
           "#636efa",
           "#EF553B",
           "#00cc96",
           "#ab63fa",
           "#FFA15A",
           "#19d3f3",
           "#FF6692",
           "#B6E880",
           "#FF97FF",
           "#FECB52"
          ],
          "font": {
           "color": "#2a3f5f"
          },
          "geo": {
           "bgcolor": "white",
           "lakecolor": "white",
           "landcolor": "#E5ECF6",
           "showlakes": true,
           "showland": true,
           "subunitcolor": "white"
          },
          "hoverlabel": {
           "align": "left"
          },
          "hovermode": "closest",
          "mapbox": {
           "style": "light"
          },
          "paper_bgcolor": "white",
          "plot_bgcolor": "#E5ECF6",
          "polar": {
           "angularaxis": {
            "gridcolor": "white",
            "linecolor": "white",
            "ticks": ""
           },
           "bgcolor": "#E5ECF6",
           "radialaxis": {
            "gridcolor": "white",
            "linecolor": "white",
            "ticks": ""
           }
          },
          "scene": {
           "xaxis": {
            "backgroundcolor": "#E5ECF6",
            "gridcolor": "white",
            "gridwidth": 2,
            "linecolor": "white",
            "showbackground": true,
            "ticks": "",
            "zerolinecolor": "white"
           },
           "yaxis": {
            "backgroundcolor": "#E5ECF6",
            "gridcolor": "white",
            "gridwidth": 2,
            "linecolor": "white",
            "showbackground": true,
            "ticks": "",
            "zerolinecolor": "white"
           },
           "zaxis": {
            "backgroundcolor": "#E5ECF6",
            "gridcolor": "white",
            "gridwidth": 2,
            "linecolor": "white",
            "showbackground": true,
            "ticks": "",
            "zerolinecolor": "white"
           }
          },
          "shapedefaults": {
           "line": {
            "color": "#2a3f5f"
           }
          },
          "ternary": {
           "aaxis": {
            "gridcolor": "white",
            "linecolor": "white",
            "ticks": ""
           },
           "baxis": {
            "gridcolor": "white",
            "linecolor": "white",
            "ticks": ""
           },
           "bgcolor": "#E5ECF6",
           "caxis": {
            "gridcolor": "white",
            "linecolor": "white",
            "ticks": ""
           }
          },
          "title": {
           "x": 0.05
          },
          "xaxis": {
           "automargin": true,
           "gridcolor": "white",
           "linecolor": "white",
           "ticks": "",
           "title": {
            "standoff": 15
           },
           "zerolinecolor": "white",
           "zerolinewidth": 2
          },
          "yaxis": {
           "automargin": true,
           "gridcolor": "white",
           "linecolor": "white",
           "ticks": "",
           "title": {
            "standoff": 15
           },
           "zerolinecolor": "white",
           "zerolinewidth": 2
          }
         }
        },
        "xaxis": {
         "anchor": "y",
         "autorange": true,
         "domain": [
          0,
          1
         ],
         "range": [
          -1.5375285388127855,
          26.537528538812786
         ],
         "title": {
          "text": "Failures"
         },
         "type": "linear"
        },
        "yaxis": {
         "anchor": "x",
         "autorange": true,
         "domain": [
          0,
          1
         ],
         "range": [
          -36.722017220172205,
          766.7220172201722
         ],
         "title": {
          "text": "Minutes"
         },
         "type": "linear"
        }
       }
      },
      "image/png": "[encoded data removed]",
      "text/html": [
       "<div>                            <div id=\"885dfb81-6ad4-4cb2-acce-2c185f1351e5\" class=\"plotly-graph-div\" style=\"height:600px; width:100%;\"></div>            <script type=\"text/javascript\">                require([\"plotly\"], function(Plotly) {                    window.PLOTLYENV=window.PLOTLYENV || {};                                    if (document.getElementById(\"885dfb81-6ad4-4cb2-acce-2c185f1351e5\")) {                    Plotly.newPlot(                        \"885dfb81-6ad4-4cb2-acce-2c185f1351e5\",                        [{\"customdata\":[[\"\",\"centos-query_N1qltxn_durability_persistToMajority\",\"DURABILITY\"],[\"\",\"centos-query_N1qltxn_durability_persistToMajorityGSI_type=UNDEFINEDbucket_storage=MAGMA\",\"DURABILITY\"],[\"\",\"centos-query_N1qltxn_durability_majorityAndPersistActive\",\"DURABILITY\"]],\"hovertemplate\":\"area=query<br>fail_count=%{x}<br>minutes=%{y}<br>name=%{customdata[1]}<br>component=%{customdata[2]}<extra></extra>\",\"legendgroup\":\"query\",\"marker\":{\"color\":\"#636efa\",\"symbol\":\"circle\"},\"mode\":\"markers+text\",\"name\":\"query\",\"orientation\":\"v\",\"showlegend\":true,\"text\":[\"\",\"\",\"\"],\"type\":\"scatter\",\"x\":[1,1,0],\"xaxis\":\"x\",\"y\":[720,720,720],\"yaxis\":\"y\"},{\"customdata\":[[\"\",\"centos-transaction_autofailover_durability_majority_6.5_P0_Set1\",\"DURABILITY\"],[\"\",\"centos-transaction_autofailover_durability_majority_and_persist_on_master_6.5_P0_Set1\",\"DURABILITY\"],[\"\",\"centos-transaction_autofailover_durability_persist_to_majority_6.5_P0_Set1\",\"DURABILITY\"],[\"\",\"centos-transaction_concurrency_durability_majority_6.5_P0_Set1\",\"DURABILITY\"],[\"\",\"centos-transaction_concurrency_durability_majority_6.5_P0_Set2\",\"DURABILITY\"],[\"\",\"centos-transaction_concurrency_durability_majority_and_persist_on_master_6.5_P0_Set1\",\"DURABILITY\"],[\"\",\"centos-transaction_concurrency_durability_persist_to_majority_6.5_P0_Set1\",\"DURABILITY\"],[\"\",\"centos-transaction_crash_test_durability_majority_6.5_P0_Set1\",\"DURABILITY\"],[\"\",\"centos-transaction_crash_test_durability_majority_6.5_P1\",\"DURABILITY\"],[\"\",\"centos-transaction_crash_test_durability_majority_and_persist_on_master_6.5_P0_Set1\",\"DURABILITY\"],[\"\",\"centos-transaction_crash_test_durability_majority_and_persist_on_master_6.5_P1\",\"DURABILITY\"],[\"\",\"centos-transaction_crash_test_durability_persist_to_majority_6.5_P0_Set1\",\"DURABILITY\"],[\"\",\"centos-transaction_crash_test_durability_persist_to_majority_6.5_P1\",\"DURABILITY\"],[\"\",\"centos-transaction_diskautofailover_durability_majority_6.5_P0_Set1\",\"DURABILITY\"],[\"\",\"centos-transaction_diskautofailover_durability_majority_and_persist_on_master_6.5_P0_Set1\",\"DURABILITY\"],[\"\",\"centos-transaction_diskautofailover_durability_persist_to_majority_6.5_P0_Set1\",\"DURABILITY\"],[\"\",\"centos-transaction_doc_isolation_durability_majority_6.6_P0\",\"DURABILITY\"],[\"\",\"centos-transaction_doc_isolation_durability_majority_6.6_P1\",\"DURABILITY\"],[\"\",\"centos-transaction_doc_isolation_durability_majority_and_persist_on_master_6.6_P0\",\"DURABILITY\"],[\"\",\"centos-transaction_doc_isolation_durability_majority_and_persist_on_master_6.6_P1\",\"DURABILITY\"],[\"\",\"centos-transaction_doc_isolation_durability_persist_to_majority_6.6_P0\",\"DURABILITY\"],[\"\",\"centos-transaction_doc_isolation_durability_persist_to_majority_6.6_P1\",\"DURABILITY\"],[\"\",\"centos-transaction_durability_majority_and_persist_on_master_auto_retry_P0\",\"DURABILITY\"],[\"\",\"centos-transaction_durability_majority_and_persist_on_master_auto_retry_P1\",\"DURABILITY\"],[\"\",\"centos-transaction_durability_majority_auto_retry_P0\",\"DURABILITY\"],[\"\",\"centos-transaction_durability_majority_auto_retry_P1\",\"DURABILITY\"],[\"\",\"centos-transaction_durability_majority_auto_retry_defer_P0\",\"DURABILITY\"],[\"\",\"centos-transaction_durability_persist_to_majority_auto_retry_P0\",\"DURABILITY\"],[\"\",\"centos-transaction_durability_persist_to_majority_auto_retry_P1\",\"DURABILITY\"],[\"\",\"centos-transaction_multi_bucket_durability_majority_6.5_P0\",\"DURABILITY\"],[\"\",\"centos-transaction_multi_bucket_durability_majority_6.5_P0_Set1\",\"DURABILITY\"],[\"\",\"centos-transaction_multi_bucket_durability_majority_6.5_P0_Set2\",\"DURABILITY\"],[\"\",\"centos-transaction_multi_bucket_durability_majority_and_persist_on_master_6.5_P0\",\"DURABILITY\"],[\"\",\"centos-transaction_multi_bucket_durability_majority_defer_6.5_P0\",\"DURABILITY\"],[\"\",\"centos-transaction_multi_bucket_durability_majority_defer_6.5_P0_Set1\",\"DURABILITY\"],[\"\",\"centos-transaction_multi_bucket_durability_majority_defer_6.5_P0_Set2\",\"DURABILITY\"],[\"\",\"centos-transaction_multi_bucket_durability_persist_to_majority_6.5_P0\",\"DURABILITY\"],[\"\",\"centos-transaction_newfailover_durability_majority_6.5_P0\",\"DURABILITY\"],[\"\",\"centos-transaction_newfailover_durability_majority_6.5_P0_Set1\",\"DURABILITY\"],[\"\",\"centos-transaction_newfailover_durability_majority_and_persist_on_master_6.5_P0_Set1\",\"DURABILITY\"],[\"\",\"centos-transaction_newfailover_durability_persist_to_majority_6.5_P0_Set1\",\"DURABILITY\"],[\"\",\"centos-transaction_param_update_durability_majority_6.5_P0_Set1\",\"DURABILITY\"],[\"\",\"centos-transaction_param_update_durability_majority_and_persist_on_master_6.5_P0_Set1\",\"DURABILITY\"],[\"\",\"centos-transaction_param_update_durability_persist_to_majority_6.5_P0_Set1\",\"DURABILITY\"],[\"\",\"centos-transaction_rebalance_in_durability_majority_6.5_P0_Set1\",\"DURABILITY\"],[\"\",\"centos-transaction_rebalance_in_durability_majority_and_persist_on_master_6.5_P0_Set1\",\"DURABILITY\"],[\"\",\"centos-transaction_rebalance_in_durability_majority_defer_6.5_P0_Set1\",\"DURABILITY\"],[\"\",\"centos-transaction_rebalance_in_durability_persist_to_majority_6.5_P0_Set1\",\"DURABILITY\"],[\"\",\"centos-transaction_rebalance_in_out_durability_majority_6.5_P0\",\"DURABILITY\"],[\"\",\"centos-transaction_steady_state_durability_persist_to_majority_retry_6.5_P0\",\"DURABILITY\"],[\"\",\"centos-transaction_rebalance_in_out_durability_majority_and_persist_on_master_6.5_P0_Set1\",\"DURABILITY\"],[\"\",\"centos-transaction_rebalance_out_durability_majority_and_persist_on_master_6.5_P0_Set1\",\"DURABILITY\"],[\"\",\"centos-transaction_steady_state_durability_majority_and_persist_on_master_retry_6.5_P0\",\"DURABILITY\"],[\"\",\"centos-transaction_rebalance_out_durability_majority_defer_6.5_P0_Set1\",\"DURABILITY\"],[\"\",\"centos-transaction_steady_state_durability_majority_and_persist_on_master_6.5_P0\",\"DURABILITY\"],[\"\",\"centos-transaction_steady_state_durability_majority_and_persist_on_master_defer_6.5_P0\",\"DURABILITY\"],[\"\",\"centos-transaction_steady_state_durability_majority_defer_6.5_P0\",\"DURABILITY\"],[\"\",\"centos-transaction_steady_state_durability_persist_to_majority_defer_6.5_P0\",\"DURABILITY\"],[\"\",\"centos-transaction_steady_state_durability_persist_to_majority_6.5_P0\",\"DURABILITY\"],[\"\",\"centos-transaction_swap_rebalance_durability_majority_6.5_P0_Set1\",\"DURABILITY\"],[\"\",\"centos-transaction_steady_state_durability_majority_retry_6.5_P0\",\"DURABILITY\"],[\"\",\"centos-transaction_rebalance_out_durability_majority_6.5_P0\",\"DURABILITY\"],[\"\",\"centos-transaction_rebalance_out_durability_persist_to_majority_6.5_P0_Set1\",\"DURABILITY\"],[\"\",\"centos-transaction_steady_state_durability_majority_6.5_P0\",\"DURABILITY\"],[\"\",\"centos-transaction_swap_rebalance_durability_majority_and_persist_on_master_6.5_P0_Set1\",\"DURABILITY\"],[\"\",\"centos-transaction_rebalance_in_out_durability_majority_6.5_P0_Set1\",\"DURABILITY\"],[\"\",\"centos-transaction_rebalance_in_out_durability_persist_to_majority_6.5_P0_Set1\",\"DURABILITY\"],[\"\",\"centos-transaction_rebalance_in_out_durability_majority_defer_6.5_P0_Set1\",\"DURABILITY\"],[\"\",\"centos-transaction_steady_state_diff_doc_size_durability_majority_6.5_P0\",\"DURABILITY\"],[\"\",\"centos-transaction_steady_state_diff_doc_size_durability_majority_6.5_P0_Set1\",\"DURABILITY\"],[\"\",\"centos-transaction_swap_rebalance_durability_persist_to_majority_6.5_P0_Set1\",\"DURABILITY\"],[\"\",\"centos-transaction_rebalancein_6.5_durability_majority_P0\",\"DURABILITY\"],[\"\",\"centos-transaction_swap_rebalance_durability_majority_6.5_P0\",\"DURABILITY\"],[\"\",\"centos-transaction_rebalance_out_durability_majority_6.5_P0_Set1\",\"DURABILITY\"]],\"hovertemplate\":\"area=transaction<br>fail_count=%{x}<br>minutes=%{y}<br>name=%{customdata[1]}<br>component=%{customdata[2]}<extra></extra>\",\"legendgroup\":\"transaction\",\"marker\":{\"color\":\"#EF553B\",\"symbol\":\"circle\"},\"mode\":\"markers+text\",\"name\":\"transaction\",\"orientation\":\"v\",\"showlegend\":true,\"text\":[\"\",\"\",\"\",\"\",\"\",\"\",\"\",\"\",\"\",\"\",\"\",\"\",\"\",\"\",\"\",\"\",\"\",\"\",\"\",\"\",\"\",\"\",\"\",\"\",\"\",\"\",\"\",\"\",\"\",\"\",\"\",\"\",\"\",\"\",\"\",\"\",\"\",\"\",\"\",\"\",\"\",\"\",\"\",\"\",\"\",\"\",\"\",\"\",\"\",\"\",\"\",\"\",\"\",\"\",\"\",\"\",\"\",\"\",\"\",\"\",\"\",\"\",\"\",\"\",\"\",\"\",\"\",\"\",\"\",\"\",\"\",\"\",\"\",\"\"],\"type\":\"scatter\",\"x\":[0,0,0,1,0,1,1,0,0,0,0,0,0,0,1,0,0,0,0,0,0,1,2,1,0,0,4,0,0,8,0,0,8,25,0,0,8,0,0,0,0,0,0,0,0,0,2,0,0,4,1,0,4,2,0,0,0,0,0,4,3,0,0,0,1,0,0,1,0,0,2,0,0,0],\"xaxis\":\"x\",\"y\":[34,37,45,720,720,720,720,150,79,62,80,73,208,455,259,276,53,720,53,720,64,720,98,197,116,111,117,144,126,720,70,81,720,112,78,100,720,10,36,36,37,60,65,60,55,55,101,61,29,121,77,53,56,42,261,39,25,42,178,208,145,16,51,48,128,55,65,77,58,34,97,19,20,34],\"yaxis\":\"y\"}],                        {\"height\":600,\"legend\":{\"title\":{\"text\":\"area\"},\"tracegroupgap\":0},\"margin\":{\"t\":60},\"template\":{\"data\":{\"bar\":[{\"error_x\":{\"color\":\"#2a3f5f\"},\"error_y\":{\"color\":\"#2a3f5f\"},\"marker\":{\"line\":{\"color\":\"#E5ECF6\",\"width\":0.5},\"pattern\":{\"fillmode\":\"overlay\",\"size\":10,\"solidity\":0.2}},\"type\":\"bar\"}],\"barpolar\":[{\"marker\":{\"line\":{\"color\":\"#E5ECF6\",\"width\":0.5},\"pattern\":{\"fillmode\":\"overlay\",\"size\":10,\"solidity\":0.2}},\"type\":\"barpolar\"}],\"carpet\":[{\"aaxis\":{\"endlinecolor\":\"#2a3f5f\",\"gridcolor\":\"white\",\"linecolor\":\"white\",\"minorgridcolor\":\"white\",\"startlinecolor\":\"#2a3f5f\"},\"baxis\":{\"endlinecolor\":\"#2a3f5f\",\"gridcolor\":\"white\",\"linecolor\":\"white\",\"minorgridcolor\":\"white\",\"startlinecolor\":\"#2a3f5f\"},\"type\":\"carpet\"}],\"choropleth\":[{\"colorbar\":{\"outlinewidth\":0,\"ticks\":\"\"},\"type\":\"choropleth\"}],\"contour\":[{\"colorbar\":{\"outlinewidth\":0,\"ticks\":\"\"},\"colorscale\":[[0.0,\"#0d0887\"],[0.1111111111111111,\"#46039f\"],[0.2222222222222222,\"#7201a8\"],[0.3333333333333333,\"#9c179e\"],[0.4444444444444444,\"#bd3786\"],[0.5555555555555556,\"#d8576b\"],[0.6666666666666666,\"#ed7953\"],[0.7777777777777778,\"#fb9f3a\"],[0.8888888888888888,\"#fdca26\"],[1.0,\"#f0f921\"]],\"type\":\"contour\"}],\"contourcarpet\":[{\"colorbar\":{\"outlinewidth\":0,\"ticks\":\"\"},\"type\":\"contourcarpet\"}],\"heatmap\":[{\"colorbar\":{\"outlinewidth\":0,\"ticks\":\"\"},\"colorscale\":[[0.0,\"#0d0887\"],[0.1111111111111111,\"#46039f\"],[0.2222222222222222,\"#7201a8\"],[0.3333333333333333,\"#9c179e\"],[0.4444444444444444,\"#bd3786\"],[0.5555555555555556,\"#d8576b\"],[0.6666666666666666,\"#ed7953\"],[0.7777777777777778,\"#fb9f3a\"],[0.8888888888888888,\"#fdca26\"],[1.0,\"#f0f921\"]],\"type\":\"heatmap\"}],\"heatmapgl\":[{\"colorbar\":{\"outlinewidth\":0,\"ticks\":\"\"},\"colorscale\":[[0.0,\"#0d0887\"],[0.1111111111111111,\"#46039f\"],[0.2222222222222222,\"#7201a8\"],[0.3333333333333333,\"#9c179e\"],[0.4444444444444444,\"#bd3786\"],[0.5555555555555556,\"#d8576b\"],[0.6666666666666666,\"#ed7953\"],[0.7777777777777778,\"#fb9f3a\"],[0.8888888888888888,\"#fdca26\"],[1.0,\"#f0f921\"]],\"type\":\"heatmapgl\"}],\"histogram\":[{\"marker\":{\"pattern\":{\"fillmode\":\"overlay\",\"size\":10,\"solidity\":0.2}},\"type\":\"histogram\"}],\"histogram2d\":[{\"colorbar\":{\"outlinewidth\":0,\"ticks\":\"\"},\"colorscale\":[[0.0,\"#0d0887\"],[0.1111111111111111,\"#46039f\"],[0.2222222222222222,\"#7201a8\"],[0.3333333333333333,\"#9c179e\"],[0.4444444444444444,\"#bd3786\"],[0.5555555555555556,\"#d8576b\"],[0.6666666666666666,\"#ed7953\"],[0.7777777777777778,\"#fb9f3a\"],[0.8888888888888888,\"#fdca26\"],[1.0,\"#f0f921\"]],\"type\":\"histogram2d\"}],\"histogram2dcontour\":[{\"colorbar\":{\"outlinewidth\":0,\"ticks\":\"\"},\"colorscale\":[[0.0,\"#0d0887\"],[0.1111111111111111,\"#46039f\"],[0.2222222222222222,\"#7201a8\"],[0.3333333333333333,\"#9c179e\"],[0.4444444444444444,\"#bd3786\"],[0.5555555555555556,\"#d8576b\"],[0.6666666666666666,\"#ed7953\"],[0.7777777777777778,\"#fb9f3a\"],[0.8888888888888888,\"#fdca26\"],[1.0,\"#f0f921\"]],\"type\":\"histogram2dcontour\"}],\"mesh3d\":[{\"colorbar\":{\"outlinewidth\":0,\"ticks\":\"\"},\"type\":\"mesh3d\"}],\"parcoords\":[{\"line\":{\"colorbar\":{\"outlinewidth\":0,\"ticks\":\"\"}},\"type\":\"parcoords\"}],\"pie\":[{\"automargin\":true,\"type\":\"pie\"}],\"scatter\":[{\"marker\":{\"colorbar\":{\"outlinewidth\":0,\"ticks\":\"\"}},\"type\":\"scatter\"}],\"scatter3d\":[{\"line\":{\"colorbar\":{\"outlinewidth\":0,\"ticks\":\"\"}},\"marker\":{\"colorbar\":{\"outlinewidth\":0,\"ticks\":\"\"}},\"type\":\"scatter3d\"}],\"scattercarpet\":[{\"marker\":{\"colorbar\":{\"outlinewidth\":0,\"ticks\":\"\"}},\"type\":\"scattercarpet\"}],\"scattergeo\":[{\"marker\":{\"colorbar\":{\"outlinewidth\":0,\"ticks\":\"\"}},\"type\":\"scattergeo\"}],\"scattergl\":[{\"marker\":{\"colorbar\":{\"outlinewidth\":0,\"ticks\":\"\"}},\"type\":\"scattergl\"}],\"scattermapbox\":[{\"marker\":{\"colorbar\":{\"outlinewidth\":0,\"ticks\":\"\"}},\"type\":\"scattermapbox\"}],\"scatterpolar\":[{\"marker\":{\"colorbar\":{\"outlinewidth\":0,\"ticks\":\"\"}},\"type\":\"scatterpolar\"}],\"scatterpolargl\":[{\"marker\":{\"colorbar\":{\"outlinewidth\":0,\"ticks\":\"\"}},\"type\":\"scatterpolargl\"}],\"scatterternary\":[{\"marker\":{\"colorbar\":{\"outlinewidth\":0,\"ticks\":\"\"}},\"type\":\"scatterternary\"}],\"surface\":[{\"colorbar\":{\"outlinewidth\":0,\"ticks\":\"\"},\"colorscale\":[[0.0,\"#0d0887\"],[0.1111111111111111,\"#46039f\"],[0.2222222222222222,\"#7201a8\"],[0.3333333333333333,\"#9c179e\"],[0.4444444444444444,\"#bd3786\"],[0.5555555555555556,\"#d8576b\"],[0.6666666666666666,\"#ed7953\"],[0.7777777777777778,\"#fb9f3a\"],[0.8888888888888888,\"#fdca26\"],[1.0,\"#f0f921\"]],\"type\":\"surface\"}],\"table\":[{\"cells\":{\"fill\":{\"color\":\"#EBF0F8\"},\"line\":{\"color\":\"white\"}},\"header\":{\"fill\":{\"color\":\"#C8D4E3\"},\"line\":{\"color\":\"white\"}},\"type\":\"table\"}]},\"layout\":{\"annotationdefaults\":{\"arrowcolor\":\"#2a3f5f\",\"arrowhead\":0,\"arrowwidth\":1},\"autotypenumbers\":\"strict\",\"coloraxis\":{\"colorbar\":{\"outlinewidth\":0,\"ticks\":\"\"}},\"colorscale\":{\"diverging\":[[0,\"#8e0152\"],[0.1,\"#c51b7d\"],[0.2,\"#de77ae\"],[0.3,\"#f1b6da\"],[0.4,\"#fde0ef\"],[0.5,\"#f7f7f7\"],[0.6,\"#e6f5d0\"],[0.7,\"#b8e186\"],[0.8,\"#7fbc41\"],[0.9,\"#4d9221\"],[1,\"#276419\"]],\"sequential\":[[0.0,\"#0d0887\"],[0.1111111111111111,\"#46039f\"],[0.2222222222222222,\"#7201a8\"],[0.3333333333333333,\"#9c179e\"],[0.4444444444444444,\"#bd3786\"],[0.5555555555555556,\"#d8576b\"],[0.6666666666666666,\"#ed7953\"],[0.7777777777777778,\"#fb9f3a\"],[0.8888888888888888,\"#fdca26\"],[1.0,\"#f0f921\"]],\"sequentialminus\":[[0.0,\"#0d0887\"],[0.1111111111111111,\"#46039f\"],[0.2222222222222222,\"#7201a8\"],[0.3333333333333333,\"#9c179e\"],[0.4444444444444444,\"#bd3786\"],[0.5555555555555556,\"#d8576b\"],[0.6666666666666666,\"#ed7953\"],[0.7777777777777778,\"#fb9f3a\"],[0.8888888888888888,\"#fdca26\"],[1.0,\"#f0f921\"]]},\"colorway\":[\"#636efa\",\"#EF553B\",\"#00cc96\",\"#ab63fa\",\"#FFA15A\",\"#19d3f3\",\"#FF6692\",\"#B6E880\",\"#FF97FF\",\"#FECB52\"],\"font\":{\"color\":\"#2a3f5f\"},\"geo\":{\"bgcolor\":\"white\",\"lakecolor\":\"white\",\"landcolor\":\"#E5ECF6\",\"showlakes\":true,\"showland\":true,\"subunitcolor\":\"white\"},\"hoverlabel\":{\"align\":\"left\"},\"hovermode\":\"closest\",\"mapbox\":{\"style\":\"light\"},\"paper_bgcolor\":\"white\",\"plot_bgcolor\":\"#E5ECF6\",\"polar\":{\"angularaxis\":{\"gridcolor\":\"white\",\"linecolor\":\"white\",\"ticks\":\"\"},\"bgcolor\":\"#E5ECF6\",\"radialaxis\":{\"gridcolor\":\"white\",\"linecolor\":\"white\",\"ticks\":\"\"}},\"scene\":{\"xaxis\":{\"backgroundcolor\":\"#E5ECF6\",\"gridcolor\":\"white\",\"gridwidth\":2,\"linecolor\":\"white\",\"showbackground\":true,\"ticks\":\"\",\"zerolinecolor\":\"white\"},\"yaxis\":{\"backgroundcolor\":\"#E5ECF6\",\"gridcolor\":\"white\",\"gridwidth\":2,\"linecolor\":\"white\",\"showbackground\":true,\"ticks\":\"\",\"zerolinecolor\":\"white\"},\"zaxis\":{\"backgroundcolor\":\"#E5ECF6\",\"gridcolor\":\"white\",\"gridwidth\":2,\"linecolor\":\"white\",\"showbackground\":true,\"ticks\":\"\",\"zerolinecolor\":\"white\"}},\"shapedefaults\":{\"line\":{\"color\":\"#2a3f5f\"}},\"ternary\":{\"aaxis\":{\"gridcolor\":\"white\",\"linecolor\":\"white\",\"ticks\":\"\"},\"baxis\":{\"gridcolor\":\"white\",\"linecolor\":\"white\",\"ticks\":\"\"},\"bgcolor\":\"#E5ECF6\",\"caxis\":{\"gridcolor\":\"white\",\"linecolor\":\"white\",\"ticks\":\"\"}},\"title\":{\"x\":0.05},\"xaxis\":{\"automargin\":true,\"gridcolor\":\"white\",\"linecolor\":\"white\",\"ticks\":\"\",\"title\":{\"standoff\":15},\"zerolinecolor\":\"white\",\"zerolinewidth\":2},\"yaxis\":{\"automargin\":true,\"gridcolor\":\"white\",\"linecolor\":\"white\",\"ticks\":\"\",\"title\":{\"standoff\":15},\"zerolinecolor\":\"white\",\"zerolinewidth\":2}}},\"xaxis\":{\"anchor\":\"y\",\"domain\":[0.0,1.0],\"title\":{\"text\":\"Failures\"}},\"yaxis\":{\"anchor\":\"x\",\"domain\":[0.0,1.0],\"title\":{\"text\":\"Minutes\"}}},                        {\"responsive\": true}                    ).then(function(){\n",
       "                            \n",
       "var gd = document.getElementById('885dfb81-6ad4-4cb2-acce-2c185f1351e5');\n",
       "var x = new MutationObserver(function (mutations, observer) {{\n",
       "        var display = window.getComputedStyle(gd).display;\n",
       "        if (!display || display === 'none') {{\n",
       "            console.log([gd, 'removed!']);\n",
       "            Plotly.purge(gd);\n",
       "            observer.disconnect();\n",
       "        }}\n",
       "}});\n",
       "\n",
       "// Listen for the removal of the full notebook cells\n",
       "var notebookContainer = gd.closest('#notebook-container');\n",
       "if (notebookContainer) {{\n",
       "    x.observe(notebookContainer, {childList: true});\n",
       "}}\n",
       "\n",
       "// Listen for the clearing of the current output cell\n",
       "var outputEl = gd.closest('.output');\n",
       "if (outputEl) {{\n",
       "    x.observe(outputEl, {childList: true});\n",
       "}}\n",
       "\n",
       "                        })                };                });            </script>        </div>"
      ]
     },
     "metadata": {},
     "output_type": "display_data"
    }
   ],
   "source": [
    "\n",
    "\n",
    "search_area = 'SPLIT(REPLACE(REPLACE(REPLACE(SPLIT(name,\"-\")[1], \"os_certify_ce_\", \"\"), \"ipv6_\", \"\"), \"os_certify_\", \"\"), \"_\")[0]'\n",
    "limit_query = f'LIMIT {parameters[\"maximum\"]}' if \"maximum\" in parameters else \"\"\n",
    "duration_query = f'SELECT component, url || to_string(build_id) as `url`, name, round(duration/1000/60) AS minutes, os, failCount as fail_count, {search_area} as area FROM server WHERE LOWER(os)=\"{parameters[\"os\"]}\" AND {construct_component_query()} {construct_area_query()} `build`=\"{release}-{current_build}\" {limit_query};'\n",
    "\n",
    "duration_result = run_query(query=duration_query, param={'$version': f\"'{release}-{current_build}'\"})\n",
    "duration = pd.DataFrame(duration_result['results'])\n",
    "\n",
    "\n",
    "duration = duration.fillna(\"no area\")\n",
    "\n",
    "if parameters[\"url\"]:\n",
    "    def make_clickable(url, name):\n",
    "        return '<a href=\"{}\" target=\"_blank\" style=\"opacity: 0\">•</a>'.format(url,name)\n",
    "    if \"url\" in duration:\n",
    "        duration['url'] = duration.apply(lambda x: make_clickable(x['url'], x['name']), axis=1)\n",
    "else:\n",
    "    duration = duration.assign(url=\"\")\n",
    "\n",
    "if len(duration) > 0:\n",
    "    duration_fig = px.scatter(duration, x=\"fail_count\", y=\"minutes\", color=\"area\", text=\"url\", hover_data={\"url\": False, \"name\": True, \"component\": True})\n",
    "    duration_fig.update_layout(height=600, yaxis_title_text=\"Minutes\", xaxis_title_text=\"Failures\")\n",
    "    duration_fig.show()\n",
    "else:\n",
    "    print(\"query found no matching data\")"
   ]
  },
  {
   "cell_type": "markdown",
   "id": "739ef0b9-83db-49a4-abf2-ed7de97b7b91",
   "metadata": {},
   "source": [
    "# Histogram"
   ]
  },
  {
   "cell_type": "markdown",
   "id": "a6da0f4f-e778-4d82-a698-aa91e7464735",
   "metadata": {},
   "source": [
    "Plotly offers a few ways to express the same data. Here, there is a simple histogram of the same data that the scatter plot uses. You can change the **bar_mode** variable to one of the following options: \"stack\", \"group\", \"overlay\", or \"relative\" to adjust to needs. "
   ]
  },
  {
   "cell_type": "code",
   "execution_count": 92,
   "id": "97060809-71b8-4094-9f57-5c8389d8cac1",
   "metadata": {
    "tags": []
   },
   "outputs": [],
   "source": [
    "bar_mode=\"stack\""
   ]
  },
  {
   "cell_type": "code",
   "execution_count": 93,
   "id": "d2c7b66d-0740-4ae8-a9fb-39a0b2301772",
   "metadata": {
    "jupyter": {
     "source_hidden": true
    },
    "tags": []
   },
   "outputs": [
    {
     "data": {
      "application/vnd.plotly.v1+json": {
       "config": {
        "plotlyServerURL": "https://plot.ly"
       },
       "data": [
        {
         "alignmentgroup": "True",
         "bingroup": "x",
         "histfunc": "sum",
         "hovertemplate": "area=query<br>minutes=%{x}<br>sum of fail_count=%{y}<extra></extra>",
         "legendgroup": "query",
         "marker": {
          "color": "#636efa",
          "pattern": {
           "shape": ""
          }
         },
         "name": "query",
         "offsetgroup": "query",
         "opacity": 0.75,
         "orientation": "v",
         "showlegend": true,
         "type": "histogram",
         "x": [
          720,
          720,
          720
         ],
         "xaxis": "x",
         "y": [
          1,
          1,
          0
         ],
         "yaxis": "y"
        },
        {
         "alignmentgroup": "True",
         "boxpoints": "all",
         "customdata": [
          [
           "query",
           "DURABILITY",
           "centos-query_N1qltxn_durability_persistToMajority",
           "CENTOS",
           ""
          ],
          [
           "query",
           "DURABILITY",
           "centos-query_N1qltxn_durability_persistToMajorityGSI_type=UNDEFINEDbucket_storage=MAGMA",
           "CENTOS",
           ""
          ],
          [
           "query",
           "DURABILITY",
           "centos-query_N1qltxn_durability_majorityAndPersistActive",
           "CENTOS",
           ""
          ]
         ],
         "fillcolor": "rgba(255,255,255,0)",
         "hoveron": "points",
         "hovertemplate": "area=%{customdata[0]}<br>minutes=%{x}<br>component=%{customdata[1]}<br>name=%{customdata[2]}<br>os=%{customdata[3]}<br>url=%{customdata[4]}<extra></extra>",
         "jitter": 0,
         "legendgroup": "query",
         "line": {
          "color": "rgba(255,255,255,0)"
         },
         "marker": {
          "color": "#636efa",
          "symbol": "line-ns-open"
         },
         "name": "query",
         "offsetgroup": "query",
         "opacity": 0.75,
         "showlegend": false,
         "type": "box",
         "x": [
          720,
          720,
          720
         ],
         "xaxis": "x2",
         "yaxis": "y2"
        },
        {
         "alignmentgroup": "True",
         "bingroup": "x",
         "histfunc": "sum",
         "hovertemplate": "area=transaction<br>minutes=%{x}<br>sum of fail_count=%{y}<extra></extra>",
         "legendgroup": "transaction",
         "marker": {
          "color": "#EF553B",
          "pattern": {
           "shape": ""
          }
         },
         "name": "transaction",
         "offsetgroup": "transaction",
         "opacity": 0.75,
         "orientation": "v",
         "showlegend": true,
         "type": "histogram",
         "x": [
          34,
          37,
          45,
          720,
          720,
          720,
          720,
          150,
          79,
          62,
          80,
          73,
          208,
          455,
          259,
          276,
          53,
          720,
          53,
          720,
          64,
          720,
          98,
          197,
          116,
          111,
          117,
          144,
          126,
          720,
          70,
          81,
          720,
          112,
          78,
          100,
          720,
          10,
          36,
          36,
          37,
          60,
          65,
          60,
          55,
          55,
          101,
          61,
          29,
          121,
          77,
          53,
          56,
          42,
          261,
          39,
          25,
          42,
          178,
          208,
          145,
          16,
          51,
          48,
          128,
          55,
          65,
          77,
          58,
          34,
          97,
          19,
          20,
          34
         ],
         "xaxis": "x",
         "y": [
          0,
          0,
          0,
          1,
          0,
          1,
          1,
          0,
          0,
          0,
          0,
          0,
          0,
          0,
          1,
          0,
          0,
          0,
          0,
          0,
          0,
          1,
          2,
          1,
          0,
          0,
          4,
          0,
          0,
          8,
          0,
          0,
          8,
          25,
          0,
          0,
          8,
          0,
          0,
          0,
          0,
          0,
          0,
          0,
          0,
          0,
          2,
          0,
          0,
          4,
          1,
          0,
          4,
          2,
          0,
          0,
          0,
          0,
          0,
          4,
          3,
          0,
          0,
          0,
          1,
          0,
          0,
          1,
          0,
          0,
          2,
          0,
          0,
          0
         ],
         "yaxis": "y"
        },
        {
         "alignmentgroup": "True",
         "boxpoints": "all",
         "customdata": [
          [
           "transaction",
           "DURABILITY",
           "centos-transaction_autofailover_durability_majority_6.5_P0_Set1",
           "CENTOS",
           ""
          ],
          [
           "transaction",
           "DURABILITY",
           "centos-transaction_autofailover_durability_majority_and_persist_on_master_6.5_P0_Set1",
           "CENTOS",
           ""
          ],
          [
           "transaction",
           "DURABILITY",
           "centos-transaction_autofailover_durability_persist_to_majority_6.5_P0_Set1",
           "CENTOS",
           ""
          ],
          [
           "transaction",
           "DURABILITY",
           "centos-transaction_concurrency_durability_majority_6.5_P0_Set1",
           "CENTOS",
           ""
          ],
          [
           "transaction",
           "DURABILITY",
           "centos-transaction_concurrency_durability_majority_6.5_P0_Set2",
           "CENTOS",
           ""
          ],
          [
           "transaction",
           "DURABILITY",
           "centos-transaction_concurrency_durability_majority_and_persist_on_master_6.5_P0_Set1",
           "CENTOS",
           ""
          ],
          [
           "transaction",
           "DURABILITY",
           "centos-transaction_concurrency_durability_persist_to_majority_6.5_P0_Set1",
           "CENTOS",
           ""
          ],
          [
           "transaction",
           "DURABILITY",
           "centos-transaction_crash_test_durability_majority_6.5_P0_Set1",
           "CENTOS",
           ""
          ],
          [
           "transaction",
           "DURABILITY",
           "centos-transaction_crash_test_durability_majority_6.5_P1",
           "CENTOS",
           ""
          ],
          [
           "transaction",
           "DURABILITY",
           "centos-transaction_crash_test_durability_majority_and_persist_on_master_6.5_P0_Set1",
           "CENTOS",
           ""
          ],
          [
           "transaction",
           "DURABILITY",
           "centos-transaction_crash_test_durability_majority_and_persist_on_master_6.5_P1",
           "CENTOS",
           ""
          ],
          [
           "transaction",
           "DURABILITY",
           "centos-transaction_crash_test_durability_persist_to_majority_6.5_P0_Set1",
           "CENTOS",
           ""
          ],
          [
           "transaction",
           "DURABILITY",
           "centos-transaction_crash_test_durability_persist_to_majority_6.5_P1",
           "CENTOS",
           ""
          ],
          [
           "transaction",
           "DURABILITY",
           "centos-transaction_diskautofailover_durability_majority_6.5_P0_Set1",
           "CENTOS",
           ""
          ],
          [
           "transaction",
           "DURABILITY",
           "centos-transaction_diskautofailover_durability_majority_and_persist_on_master_6.5_P0_Set1",
           "CENTOS",
           ""
          ],
          [
           "transaction",
           "DURABILITY",
           "centos-transaction_diskautofailover_durability_persist_to_majority_6.5_P0_Set1",
           "CENTOS",
           ""
          ],
          [
           "transaction",
           "DURABILITY",
           "centos-transaction_doc_isolation_durability_majority_6.6_P0",
           "CENTOS",
           ""
          ],
          [
           "transaction",
           "DURABILITY",
           "centos-transaction_doc_isolation_durability_majority_6.6_P1",
           "CENTOS",
           ""
          ],
          [
           "transaction",
           "DURABILITY",
           "centos-transaction_doc_isolation_durability_majority_and_persist_on_master_6.6_P0",
           "CENTOS",
           ""
          ],
          [
           "transaction",
           "DURABILITY",
           "centos-transaction_doc_isolation_durability_majority_and_persist_on_master_6.6_P1",
           "CENTOS",
           ""
          ],
          [
           "transaction",
           "DURABILITY",
           "centos-transaction_doc_isolation_durability_persist_to_majority_6.6_P0",
           "CENTOS",
           ""
          ],
          [
           "transaction",
           "DURABILITY",
           "centos-transaction_doc_isolation_durability_persist_to_majority_6.6_P1",
           "CENTOS",
           ""
          ],
          [
           "transaction",
           "DURABILITY",
           "centos-transaction_durability_majority_and_persist_on_master_auto_retry_P0",
           "CENTOS",
           ""
          ],
          [
           "transaction",
           "DURABILITY",
           "centos-transaction_durability_majority_and_persist_on_master_auto_retry_P1",
           "CENTOS",
           ""
          ],
          [
           "transaction",
           "DURABILITY",
           "centos-transaction_durability_majority_auto_retry_P0",
           "CENTOS",
           ""
          ],
          [
           "transaction",
           "DURABILITY",
           "centos-transaction_durability_majority_auto_retry_P1",
           "CENTOS",
           ""
          ],
          [
           "transaction",
           "DURABILITY",
           "centos-transaction_durability_majority_auto_retry_defer_P0",
           "CENTOS",
           ""
          ],
          [
           "transaction",
           "DURABILITY",
           "centos-transaction_durability_persist_to_majority_auto_retry_P0",
           "CENTOS",
           ""
          ],
          [
           "transaction",
           "DURABILITY",
           "centos-transaction_durability_persist_to_majority_auto_retry_P1",
           "CENTOS",
           ""
          ],
          [
           "transaction",
           "DURABILITY",
           "centos-transaction_multi_bucket_durability_majority_6.5_P0",
           "CENTOS",
           ""
          ],
          [
           "transaction",
           "DURABILITY",
           "centos-transaction_multi_bucket_durability_majority_6.5_P0_Set1",
           "CENTOS",
           ""
          ],
          [
           "transaction",
           "DURABILITY",
           "centos-transaction_multi_bucket_durability_majority_6.5_P0_Set2",
           "CENTOS",
           ""
          ],
          [
           "transaction",
           "DURABILITY",
           "centos-transaction_multi_bucket_durability_majority_and_persist_on_master_6.5_P0",
           "CENTOS",
           ""
          ],
          [
           "transaction",
           "DURABILITY",
           "centos-transaction_multi_bucket_durability_majority_defer_6.5_P0",
           "CENTOS",
           ""
          ],
          [
           "transaction",
           "DURABILITY",
           "centos-transaction_multi_bucket_durability_majority_defer_6.5_P0_Set1",
           "CENTOS",
           ""
          ],
          [
           "transaction",
           "DURABILITY",
           "centos-transaction_multi_bucket_durability_majority_defer_6.5_P0_Set2",
           "CENTOS",
           ""
          ],
          [
           "transaction",
           "DURABILITY",
           "centos-transaction_multi_bucket_durability_persist_to_majority_6.5_P0",
           "CENTOS",
           ""
          ],
          [
           "transaction",
           "DURABILITY",
           "centos-transaction_newfailover_durability_majority_6.5_P0",
           "CENTOS",
           ""
          ],
          [
           "transaction",
           "DURABILITY",
           "centos-transaction_newfailover_durability_majority_6.5_P0_Set1",
           "CENTOS",
           ""
          ],
          [
           "transaction",
           "DURABILITY",
           "centos-transaction_newfailover_durability_majority_and_persist_on_master_6.5_P0_Set1",
           "CENTOS",
           ""
          ],
          [
           "transaction",
           "DURABILITY",
           "centos-transaction_newfailover_durability_persist_to_majority_6.5_P0_Set1",
           "CENTOS",
           ""
          ],
          [
           "transaction",
           "DURABILITY",
           "centos-transaction_param_update_durability_majority_6.5_P0_Set1",
           "CENTOS",
           ""
          ],
          [
           "transaction",
           "DURABILITY",
           "centos-transaction_param_update_durability_majority_and_persist_on_master_6.5_P0_Set1",
           "CENTOS",
           ""
          ],
          [
           "transaction",
           "DURABILITY",
           "centos-transaction_param_update_durability_persist_to_majority_6.5_P0_Set1",
           "CENTOS",
           ""
          ],
          [
           "transaction",
           "DURABILITY",
           "centos-transaction_rebalance_in_durability_majority_6.5_P0_Set1",
           "CENTOS",
           ""
          ],
          [
           "transaction",
           "DURABILITY",
           "centos-transaction_rebalance_in_durability_majority_and_persist_on_master_6.5_P0_Set1",
           "CENTOS",
           ""
          ],
          [
           "transaction",
           "DURABILITY",
           "centos-transaction_rebalance_in_durability_majority_defer_6.5_P0_Set1",
           "CENTOS",
           ""
          ],
          [
           "transaction",
           "DURABILITY",
           "centos-transaction_rebalance_in_durability_persist_to_majority_6.5_P0_Set1",
           "CENTOS",
           ""
          ],
          [
           "transaction",
           "DURABILITY",
           "centos-transaction_rebalance_in_out_durability_majority_6.5_P0",
           "CENTOS",
           ""
          ],
          [
           "transaction",
           "DURABILITY",
           "centos-transaction_steady_state_durability_persist_to_majority_retry_6.5_P0",
           "CENTOS",
           ""
          ],
          [
           "transaction",
           "DURABILITY",
           "centos-transaction_rebalance_in_out_durability_majority_and_persist_on_master_6.5_P0_Set1",
           "CENTOS",
           ""
          ],
          [
           "transaction",
           "DURABILITY",
           "centos-transaction_rebalance_out_durability_majority_and_persist_on_master_6.5_P0_Set1",
           "CENTOS",
           ""
          ],
          [
           "transaction",
           "DURABILITY",
           "centos-transaction_steady_state_durability_majority_and_persist_on_master_retry_6.5_P0",
           "CENTOS",
           ""
          ],
          [
           "transaction",
           "DURABILITY",
           "centos-transaction_rebalance_out_durability_majority_defer_6.5_P0_Set1",
           "CENTOS",
           ""
          ],
          [
           "transaction",
           "DURABILITY",
           "centos-transaction_steady_state_durability_majority_and_persist_on_master_6.5_P0",
           "CENTOS",
           ""
          ],
          [
           "transaction",
           "DURABILITY",
           "centos-transaction_steady_state_durability_majority_and_persist_on_master_defer_6.5_P0",
           "CENTOS",
           ""
          ],
          [
           "transaction",
           "DURABILITY",
           "centos-transaction_steady_state_durability_majority_defer_6.5_P0",
           "CENTOS",
           ""
          ],
          [
           "transaction",
           "DURABILITY",
           "centos-transaction_steady_state_durability_persist_to_majority_defer_6.5_P0",
           "CENTOS",
           ""
          ],
          [
           "transaction",
           "DURABILITY",
           "centos-transaction_steady_state_durability_persist_to_majority_6.5_P0",
           "CENTOS",
           ""
          ],
          [
           "transaction",
           "DURABILITY",
           "centos-transaction_swap_rebalance_durability_majority_6.5_P0_Set1",
           "CENTOS",
           ""
          ],
          [
           "transaction",
           "DURABILITY",
           "centos-transaction_steady_state_durability_majority_retry_6.5_P0",
           "CENTOS",
           ""
          ],
          [
           "transaction",
           "DURABILITY",
           "centos-transaction_rebalance_out_durability_majority_6.5_P0",
           "CENTOS",
           ""
          ],
          [
           "transaction",
           "DURABILITY",
           "centos-transaction_rebalance_out_durability_persist_to_majority_6.5_P0_Set1",
           "CENTOS",
           ""
          ],
          [
           "transaction",
           "DURABILITY",
           "centos-transaction_steady_state_durability_majority_6.5_P0",
           "CENTOS",
           ""
          ],
          [
           "transaction",
           "DURABILITY",
           "centos-transaction_swap_rebalance_durability_majority_and_persist_on_master_6.5_P0_Set1",
           "CENTOS",
           ""
          ],
          [
           "transaction",
           "DURABILITY",
           "centos-transaction_rebalance_in_out_durability_majority_6.5_P0_Set1",
           "CENTOS",
           ""
          ],
          [
           "transaction",
           "DURABILITY",
           "centos-transaction_rebalance_in_out_durability_persist_to_majority_6.5_P0_Set1",
           "CENTOS",
           ""
          ],
          [
           "transaction",
           "DURABILITY",
           "centos-transaction_rebalance_in_out_durability_majority_defer_6.5_P0_Set1",
           "CENTOS",
           ""
          ],
          [
           "transaction",
           "DURABILITY",
           "centos-transaction_steady_state_diff_doc_size_durability_majority_6.5_P0",
           "CENTOS",
           ""
          ],
          [
           "transaction",
           "DURABILITY",
           "centos-transaction_steady_state_diff_doc_size_durability_majority_6.5_P0_Set1",
           "CENTOS",
           ""
          ],
          [
           "transaction",
           "DURABILITY",
           "centos-transaction_swap_rebalance_durability_persist_to_majority_6.5_P0_Set1",
           "CENTOS",
           ""
          ],
          [
           "transaction",
           "DURABILITY",
           "centos-transaction_rebalancein_6.5_durability_majority_P0",
           "CENTOS",
           ""
          ],
          [
           "transaction",
           "DURABILITY",
           "centos-transaction_swap_rebalance_durability_majority_6.5_P0",
           "CENTOS",
           ""
          ],
          [
           "transaction",
           "DURABILITY",
           "centos-transaction_rebalance_out_durability_majority_6.5_P0_Set1",
           "CENTOS",
           ""
          ]
         ],
         "fillcolor": "rgba(255,255,255,0)",
         "hoveron": "points",
         "hovertemplate": "area=%{customdata[0]}<br>minutes=%{x}<br>component=%{customdata[1]}<br>name=%{customdata[2]}<br>os=%{customdata[3]}<br>url=%{customdata[4]}<extra></extra>",
         "jitter": 0,
         "legendgroup": "transaction",
         "line": {
          "color": "rgba(255,255,255,0)"
         },
         "marker": {
          "color": "#EF553B",
          "symbol": "line-ns-open"
         },
         "name": "transaction",
         "offsetgroup": "transaction",
         "opacity": 0.75,
         "showlegend": false,
         "type": "box",
         "x": [
          34,
          37,
          45,
          720,
          720,
          720,
          720,
          150,
          79,
          62,
          80,
          73,
          208,
          455,
          259,
          276,
          53,
          720,
          53,
          720,
          64,
          720,
          98,
          197,
          116,
          111,
          117,
          144,
          126,
          720,
          70,
          81,
          720,
          112,
          78,
          100,
          720,
          10,
          36,
          36,
          37,
          60,
          65,
          60,
          55,
          55,
          101,
          61,
          29,
          121,
          77,
          53,
          56,
          42,
          261,
          39,
          25,
          42,
          178,
          208,
          145,
          16,
          51,
          48,
          128,
          55,
          65,
          77,
          58,
          34,
          97,
          19,
          20,
          34
         ],
         "xaxis": "x2",
         "yaxis": "y2"
        }
       ],
       "layout": {
        "autosize": true,
        "bargap": 0,
        "bargroupgap": 0,
        "barmode": "stack",
        "legend": {
         "title": {
          "text": "area"
         },
         "tracegroupgap": 0
        },
        "margin": {
         "t": 60
        },
        "template": {
         "data": {
          "bar": [
           {
            "error_x": {
             "color": "#2a3f5f"
            },
            "error_y": {
             "color": "#2a3f5f"
            },
            "marker": {
             "line": {
              "color": "#E5ECF6",
              "width": 0.5
             },
             "pattern": {
              "fillmode": "overlay",
              "size": 10,
              "solidity": 0.2
             }
            },
            "type": "bar"
           }
          ],
          "barpolar": [
           {
            "marker": {
             "line": {
              "color": "#E5ECF6",
              "width": 0.5
             },
             "pattern": {
              "fillmode": "overlay",
              "size": 10,
              "solidity": 0.2
             }
            },
            "type": "barpolar"
           }
          ],
          "carpet": [
           {
            "aaxis": {
             "endlinecolor": "#2a3f5f",
             "gridcolor": "white",
             "linecolor": "white",
             "minorgridcolor": "white",
             "startlinecolor": "#2a3f5f"
            },
            "baxis": {
             "endlinecolor": "#2a3f5f",
             "gridcolor": "white",
             "linecolor": "white",
             "minorgridcolor": "white",
             "startlinecolor": "#2a3f5f"
            },
            "type": "carpet"
           }
          ],
          "choropleth": [
           {
            "colorbar": {
             "outlinewidth": 0,
             "ticks": ""
            },
            "type": "choropleth"
           }
          ],
          "contour": [
           {
            "colorbar": {
             "outlinewidth": 0,
             "ticks": ""
            },
            "colorscale": [
             [
              0,
              "#0d0887"
             ],
             [
              0.1111111111111111,
              "#46039f"
             ],
             [
              0.2222222222222222,
              "#7201a8"
             ],
             [
              0.3333333333333333,
              "#9c179e"
             ],
             [
              0.4444444444444444,
              "#bd3786"
             ],
             [
              0.5555555555555556,
              "#d8576b"
             ],
             [
              0.6666666666666666,
              "#ed7953"
             ],
             [
              0.7777777777777778,
              "#fb9f3a"
             ],
             [
              0.8888888888888888,
              "#fdca26"
             ],
             [
              1,
              "#f0f921"
             ]
            ],
            "type": "contour"
           }
          ],
          "contourcarpet": [
           {
            "colorbar": {
             "outlinewidth": 0,
             "ticks": ""
            },
            "type": "contourcarpet"
           }
          ],
          "heatmap": [
           {
            "colorbar": {
             "outlinewidth": 0,
             "ticks": ""
            },
            "colorscale": [
             [
              0,
              "#0d0887"
             ],
             [
              0.1111111111111111,
              "#46039f"
             ],
             [
              0.2222222222222222,
              "#7201a8"
             ],
             [
              0.3333333333333333,
              "#9c179e"
             ],
             [
              0.4444444444444444,
              "#bd3786"
             ],
             [
              0.5555555555555556,
              "#d8576b"
             ],
             [
              0.6666666666666666,
              "#ed7953"
             ],
             [
              0.7777777777777778,
              "#fb9f3a"
             ],
             [
              0.8888888888888888,
              "#fdca26"
             ],
             [
              1,
              "#f0f921"
             ]
            ],
            "type": "heatmap"
           }
          ],
          "heatmapgl": [
           {
            "colorbar": {
             "outlinewidth": 0,
             "ticks": ""
            },
            "colorscale": [
             [
              0,
              "#0d0887"
             ],
             [
              0.1111111111111111,
              "#46039f"
             ],
             [
              0.2222222222222222,
              "#7201a8"
             ],
             [
              0.3333333333333333,
              "#9c179e"
             ],
             [
              0.4444444444444444,
              "#bd3786"
             ],
             [
              0.5555555555555556,
              "#d8576b"
             ],
             [
              0.6666666666666666,
              "#ed7953"
             ],
             [
              0.7777777777777778,
              "#fb9f3a"
             ],
             [
              0.8888888888888888,
              "#fdca26"
             ],
             [
              1,
              "#f0f921"
             ]
            ],
            "type": "heatmapgl"
           }
          ],
          "histogram": [
           {
            "marker": {
             "pattern": {
              "fillmode": "overlay",
              "size": 10,
              "solidity": 0.2
             }
            },
            "type": "histogram"
           }
          ],
          "histogram2d": [
           {
            "colorbar": {
             "outlinewidth": 0,
             "ticks": ""
            },
            "colorscale": [
             [
              0,
              "#0d0887"
             ],
             [
              0.1111111111111111,
              "#46039f"
             ],
             [
              0.2222222222222222,
              "#7201a8"
             ],
             [
              0.3333333333333333,
              "#9c179e"
             ],
             [
              0.4444444444444444,
              "#bd3786"
             ],
             [
              0.5555555555555556,
              "#d8576b"
             ],
             [
              0.6666666666666666,
              "#ed7953"
             ],
             [
              0.7777777777777778,
              "#fb9f3a"
             ],
             [
              0.8888888888888888,
              "#fdca26"
             ],
             [
              1,
              "#f0f921"
             ]
            ],
            "type": "histogram2d"
           }
          ],
          "histogram2dcontour": [
           {
            "colorbar": {
             "outlinewidth": 0,
             "ticks": ""
            },
            "colorscale": [
             [
              0,
              "#0d0887"
             ],
             [
              0.1111111111111111,
              "#46039f"
             ],
             [
              0.2222222222222222,
              "#7201a8"
             ],
             [
              0.3333333333333333,
              "#9c179e"
             ],
             [
              0.4444444444444444,
              "#bd3786"
             ],
             [
              0.5555555555555556,
              "#d8576b"
             ],
             [
              0.6666666666666666,
              "#ed7953"
             ],
             [
              0.7777777777777778,
              "#fb9f3a"
             ],
             [
              0.8888888888888888,
              "#fdca26"
             ],
             [
              1,
              "#f0f921"
             ]
            ],
            "type": "histogram2dcontour"
           }
          ],
          "mesh3d": [
           {
            "colorbar": {
             "outlinewidth": 0,
             "ticks": ""
            },
            "type": "mesh3d"
           }
          ],
          "parcoords": [
           {
            "line": {
             "colorbar": {
              "outlinewidth": 0,
              "ticks": ""
             }
            },
            "type": "parcoords"
           }
          ],
          "pie": [
           {
            "automargin": true,
            "type": "pie"
           }
          ],
          "scatter": [
           {
            "marker": {
             "colorbar": {
              "outlinewidth": 0,
              "ticks": ""
             }
            },
            "type": "scatter"
           }
          ],
          "scatter3d": [
           {
            "line": {
             "colorbar": {
              "outlinewidth": 0,
              "ticks": ""
             }
            },
            "marker": {
             "colorbar": {
              "outlinewidth": 0,
              "ticks": ""
             }
            },
            "type": "scatter3d"
           }
          ],
          "scattercarpet": [
           {
            "marker": {
             "colorbar": {
              "outlinewidth": 0,
              "ticks": ""
             }
            },
            "type": "scattercarpet"
           }
          ],
          "scattergeo": [
           {
            "marker": {
             "colorbar": {
              "outlinewidth": 0,
              "ticks": ""
             }
            },
            "type": "scattergeo"
           }
          ],
          "scattergl": [
           {
            "marker": {
             "colorbar": {
              "outlinewidth": 0,
              "ticks": ""
             }
            },
            "type": "scattergl"
           }
          ],
          "scattermapbox": [
           {
            "marker": {
             "colorbar": {
              "outlinewidth": 0,
              "ticks": ""
             }
            },
            "type": "scattermapbox"
           }
          ],
          "scatterpolar": [
           {
            "marker": {
             "colorbar": {
              "outlinewidth": 0,
              "ticks": ""
             }
            },
            "type": "scatterpolar"
           }
          ],
          "scatterpolargl": [
           {
            "marker": {
             "colorbar": {
              "outlinewidth": 0,
              "ticks": ""
             }
            },
            "type": "scatterpolargl"
           }
          ],
          "scatterternary": [
           {
            "marker": {
             "colorbar": {
              "outlinewidth": 0,
              "ticks": ""
             }
            },
            "type": "scatterternary"
           }
          ],
          "surface": [
           {
            "colorbar": {
             "outlinewidth": 0,
             "ticks": ""
            },
            "colorscale": [
             [
              0,
              "#0d0887"
             ],
             [
              0.1111111111111111,
              "#46039f"
             ],
             [
              0.2222222222222222,
              "#7201a8"
             ],
             [
              0.3333333333333333,
              "#9c179e"
             ],
             [
              0.4444444444444444,
              "#bd3786"
             ],
             [
              0.5555555555555556,
              "#d8576b"
             ],
             [
              0.6666666666666666,
              "#ed7953"
             ],
             [
              0.7777777777777778,
              "#fb9f3a"
             ],
             [
              0.8888888888888888,
              "#fdca26"
             ],
             [
              1,
              "#f0f921"
             ]
            ],
            "type": "surface"
           }
          ],
          "table": [
           {
            "cells": {
             "fill": {
              "color": "#EBF0F8"
             },
             "line": {
              "color": "white"
             }
            },
            "header": {
             "fill": {
              "color": "#C8D4E3"
             },
             "line": {
              "color": "white"
             }
            },
            "type": "table"
           }
          ]
         },
         "layout": {
          "annotationdefaults": {
           "arrowcolor": "#2a3f5f",
           "arrowhead": 0,
           "arrowwidth": 1
          },
          "autotypenumbers": "strict",
          "coloraxis": {
           "colorbar": {
            "outlinewidth": 0,
            "ticks": ""
           }
          },
          "colorscale": {
           "diverging": [
            [
             0,
             "#8e0152"
            ],
            [
             0.1,
             "#c51b7d"
            ],
            [
             0.2,
             "#de77ae"
            ],
            [
             0.3,
             "#f1b6da"
            ],
            [
             0.4,
             "#fde0ef"
            ],
            [
             0.5,
             "#f7f7f7"
            ],
            [
             0.6,
             "#e6f5d0"
            ],
            [
             0.7,
             "#b8e186"
            ],
            [
             0.8,
             "#7fbc41"
            ],
            [
             0.9,
             "#4d9221"
            ],
            [
             1,
             "#276419"
            ]
           ],
           "sequential": [
            [
             0,
             "#0d0887"
            ],
            [
             0.1111111111111111,
             "#46039f"
            ],
            [
             0.2222222222222222,
             "#7201a8"
            ],
            [
             0.3333333333333333,
             "#9c179e"
            ],
            [
             0.4444444444444444,
             "#bd3786"
            ],
            [
             0.5555555555555556,
             "#d8576b"
            ],
            [
             0.6666666666666666,
             "#ed7953"
            ],
            [
             0.7777777777777778,
             "#fb9f3a"
            ],
            [
             0.8888888888888888,
             "#fdca26"
            ],
            [
             1,
             "#f0f921"
            ]
           ],
           "sequentialminus": [
            [
             0,
             "#0d0887"
            ],
            [
             0.1111111111111111,
             "#46039f"
            ],
            [
             0.2222222222222222,
             "#7201a8"
            ],
            [
             0.3333333333333333,
             "#9c179e"
            ],
            [
             0.4444444444444444,
             "#bd3786"
            ],
            [
             0.5555555555555556,
             "#d8576b"
            ],
            [
             0.6666666666666666,
             "#ed7953"
            ],
            [
             0.7777777777777778,
             "#fb9f3a"
            ],
            [
             0.8888888888888888,
             "#fdca26"
            ],
            [
             1,
             "#f0f921"
            ]
           ]
          },
          "colorway": [
           "#636efa",
           "#EF553B",
           "#00cc96",
           "#ab63fa",
           "#FFA15A",
           "#19d3f3",
           "#FF6692",
           "#B6E880",
           "#FF97FF",
           "#FECB52"
          ],
          "font": {
           "color": "#2a3f5f"
          },
          "geo": {
           "bgcolor": "white",
           "lakecolor": "white",
           "landcolor": "#E5ECF6",
           "showlakes": true,
           "showland": true,
           "subunitcolor": "white"
          },
          "hoverlabel": {
           "align": "left"
          },
          "hovermode": "closest",
          "mapbox": {
           "style": "light"
          },
          "paper_bgcolor": "white",
          "plot_bgcolor": "#E5ECF6",
          "polar": {
           "angularaxis": {
            "gridcolor": "white",
            "linecolor": "white",
            "ticks": ""
           },
           "bgcolor": "#E5ECF6",
           "radialaxis": {
            "gridcolor": "white",
            "linecolor": "white",
            "ticks": ""
           }
          },
          "scene": {
           "xaxis": {
            "backgroundcolor": "#E5ECF6",
            "gridcolor": "white",
            "gridwidth": 2,
            "linecolor": "white",
            "showbackground": true,
            "ticks": "",
            "zerolinecolor": "white"
           },
           "yaxis": {
            "backgroundcolor": "#E5ECF6",
            "gridcolor": "white",
            "gridwidth": 2,
            "linecolor": "white",
            "showbackground": true,
            "ticks": "",
            "zerolinecolor": "white"
           },
           "zaxis": {
            "backgroundcolor": "#E5ECF6",
            "gridcolor": "white",
            "gridwidth": 2,
            "linecolor": "white",
            "showbackground": true,
            "ticks": "",
            "zerolinecolor": "white"
           }
          },
          "shapedefaults": {
           "line": {
            "color": "#2a3f5f"
           }
          },
          "ternary": {
           "aaxis": {
            "gridcolor": "white",
            "linecolor": "white",
            "ticks": ""
           },
           "baxis": {
            "gridcolor": "white",
            "linecolor": "white",
            "ticks": ""
           },
           "bgcolor": "#E5ECF6",
           "caxis": {
            "gridcolor": "white",
            "linecolor": "white",
            "ticks": ""
           }
          },
          "title": {
           "x": 0.05
          },
          "xaxis": {
           "automargin": true,
           "gridcolor": "white",
           "linecolor": "white",
           "ticks": "",
           "title": {
            "standoff": 15
           },
           "zerolinecolor": "white",
           "zerolinewidth": 2
          },
          "yaxis": {
           "automargin": true,
           "gridcolor": "white",
           "linecolor": "white",
           "ticks": "",
           "title": {
            "standoff": 15
           },
           "zerolinecolor": "white",
           "zerolinewidth": 2
          }
         }
        },
        "xaxis": {
         "anchor": "y",
         "autorange": true,
         "domain": [
          0,
          1
         ],
         "range": [
          -31.55263157894737,
          799.5
         ],
         "title": {
          "text": "Minutes"
         },
         "type": "linear"
        },
        "xaxis2": {
         "anchor": "y2",
         "autorange": true,
         "domain": [
          0,
          1
         ],
         "matches": "x",
         "range": [
          -31.55263157894737,
          799.5
         ],
         "showgrid": true,
         "showticklabels": false,
         "type": "linear"
        },
        "yaxis": {
         "anchor": "x",
         "autorange": true,
         "domain": [
          0,
          0.7326
         ],
         "range": [
          0,
          42.10526315789474
         ],
         "title": {
          "text": "Failures"
         },
         "type": "linear"
        },
        "yaxis2": {
         "anchor": "x2",
         "autorange": true,
         "domain": [
          0.7426,
          1
         ],
         "matches": "y2",
         "range": [
          -0.6118818527634817,
          1.5
         ],
         "showgrid": false,
         "showline": false,
         "showticklabels": false,
         "ticks": "",
         "type": "category"
        }
       }
      },
      "image/png": "[encoded data removed]",
      "text/html": [
       "<div>                            <div id=\"b1f2cd66-67cb-436b-9473-f64a4da831a1\" class=\"plotly-graph-div\" style=\"height:525px; width:100%;\"></div>            <script type=\"text/javascript\">                require([\"plotly\"], function(Plotly) {                    window.PLOTLYENV=window.PLOTLYENV || {};                                    if (document.getElementById(\"b1f2cd66-67cb-436b-9473-f64a4da831a1\")) {                    Plotly.newPlot(                        \"b1f2cd66-67cb-436b-9473-f64a4da831a1\",                        [{\"alignmentgroup\":\"True\",\"bingroup\":\"x\",\"histfunc\":\"sum\",\"hovertemplate\":\"area=query<br>minutes=%{x}<br>sum of fail_count=%{y}<extra></extra>\",\"legendgroup\":\"query\",\"marker\":{\"color\":\"#636efa\",\"pattern\":{\"shape\":\"\"}},\"name\":\"query\",\"offsetgroup\":\"query\",\"opacity\":0.75,\"orientation\":\"v\",\"showlegend\":true,\"type\":\"histogram\",\"x\":[720,720,720],\"xaxis\":\"x\",\"y\":[1,1,0],\"yaxis\":\"y\"},{\"alignmentgroup\":\"True\",\"boxpoints\":\"all\",\"customdata\":[[\"query\",\"DURABILITY\",\"centos-query_N1qltxn_durability_persistToMajority\",\"CENTOS\",\"\"],[\"query\",\"DURABILITY\",\"centos-query_N1qltxn_durability_persistToMajorityGSI_type=UNDEFINEDbucket_storage=MAGMA\",\"CENTOS\",\"\"],[\"query\",\"DURABILITY\",\"centos-query_N1qltxn_durability_majorityAndPersistActive\",\"CENTOS\",\"\"]],\"fillcolor\":\"rgba(255,255,255,0)\",\"hoveron\":\"points\",\"hovertemplate\":\"area=%{customdata[0]}<br>minutes=%{x}<br>component=%{customdata[1]}<br>name=%{customdata[2]}<br>os=%{customdata[3]}<br>url=%{customdata[4]}<extra></extra>\",\"jitter\":0,\"legendgroup\":\"query\",\"line\":{\"color\":\"rgba(255,255,255,0)\"},\"marker\":{\"color\":\"#636efa\",\"symbol\":\"line-ns-open\"},\"name\":\"query\",\"offsetgroup\":\"query\",\"opacity\":0.75,\"showlegend\":false,\"type\":\"box\",\"x\":[720,720,720],\"xaxis\":\"x2\",\"yaxis\":\"y2\"},{\"alignmentgroup\":\"True\",\"bingroup\":\"x\",\"histfunc\":\"sum\",\"hovertemplate\":\"area=transaction<br>minutes=%{x}<br>sum of fail_count=%{y}<extra></extra>\",\"legendgroup\":\"transaction\",\"marker\":{\"color\":\"#EF553B\",\"pattern\":{\"shape\":\"\"}},\"name\":\"transaction\",\"offsetgroup\":\"transaction\",\"opacity\":0.75,\"orientation\":\"v\",\"showlegend\":true,\"type\":\"histogram\",\"x\":[34,37,45,720,720,720,720,150,79,62,80,73,208,455,259,276,53,720,53,720,64,720,98,197,116,111,117,144,126,720,70,81,720,112,78,100,720,10,36,36,37,60,65,60,55,55,101,61,29,121,77,53,56,42,261,39,25,42,178,208,145,16,51,48,128,55,65,77,58,34,97,19,20,34],\"xaxis\":\"x\",\"y\":[0,0,0,1,0,1,1,0,0,0,0,0,0,0,1,0,0,0,0,0,0,1,2,1,0,0,4,0,0,8,0,0,8,25,0,0,8,0,0,0,0,0,0,0,0,0,2,0,0,4,1,0,4,2,0,0,0,0,0,4,3,0,0,0,1,0,0,1,0,0,2,0,0,0],\"yaxis\":\"y\"},{\"alignmentgroup\":\"True\",\"boxpoints\":\"all\",\"customdata\":[[\"transaction\",\"DURABILITY\",\"centos-transaction_autofailover_durability_majority_6.5_P0_Set1\",\"CENTOS\",\"\"],[\"transaction\",\"DURABILITY\",\"centos-transaction_autofailover_durability_majority_and_persist_on_master_6.5_P0_Set1\",\"CENTOS\",\"\"],[\"transaction\",\"DURABILITY\",\"centos-transaction_autofailover_durability_persist_to_majority_6.5_P0_Set1\",\"CENTOS\",\"\"],[\"transaction\",\"DURABILITY\",\"centos-transaction_concurrency_durability_majority_6.5_P0_Set1\",\"CENTOS\",\"\"],[\"transaction\",\"DURABILITY\",\"centos-transaction_concurrency_durability_majority_6.5_P0_Set2\",\"CENTOS\",\"\"],[\"transaction\",\"DURABILITY\",\"centos-transaction_concurrency_durability_majority_and_persist_on_master_6.5_P0_Set1\",\"CENTOS\",\"\"],[\"transaction\",\"DURABILITY\",\"centos-transaction_concurrency_durability_persist_to_majority_6.5_P0_Set1\",\"CENTOS\",\"\"],[\"transaction\",\"DURABILITY\",\"centos-transaction_crash_test_durability_majority_6.5_P0_Set1\",\"CENTOS\",\"\"],[\"transaction\",\"DURABILITY\",\"centos-transaction_crash_test_durability_majority_6.5_P1\",\"CENTOS\",\"\"],[\"transaction\",\"DURABILITY\",\"centos-transaction_crash_test_durability_majority_and_persist_on_master_6.5_P0_Set1\",\"CENTOS\",\"\"],[\"transaction\",\"DURABILITY\",\"centos-transaction_crash_test_durability_majority_and_persist_on_master_6.5_P1\",\"CENTOS\",\"\"],[\"transaction\",\"DURABILITY\",\"centos-transaction_crash_test_durability_persist_to_majority_6.5_P0_Set1\",\"CENTOS\",\"\"],[\"transaction\",\"DURABILITY\",\"centos-transaction_crash_test_durability_persist_to_majority_6.5_P1\",\"CENTOS\",\"\"],[\"transaction\",\"DURABILITY\",\"centos-transaction_diskautofailover_durability_majority_6.5_P0_Set1\",\"CENTOS\",\"\"],[\"transaction\",\"DURABILITY\",\"centos-transaction_diskautofailover_durability_majority_and_persist_on_master_6.5_P0_Set1\",\"CENTOS\",\"\"],[\"transaction\",\"DURABILITY\",\"centos-transaction_diskautofailover_durability_persist_to_majority_6.5_P0_Set1\",\"CENTOS\",\"\"],[\"transaction\",\"DURABILITY\",\"centos-transaction_doc_isolation_durability_majority_6.6_P0\",\"CENTOS\",\"\"],[\"transaction\",\"DURABILITY\",\"centos-transaction_doc_isolation_durability_majority_6.6_P1\",\"CENTOS\",\"\"],[\"transaction\",\"DURABILITY\",\"centos-transaction_doc_isolation_durability_majority_and_persist_on_master_6.6_P0\",\"CENTOS\",\"\"],[\"transaction\",\"DURABILITY\",\"centos-transaction_doc_isolation_durability_majority_and_persist_on_master_6.6_P1\",\"CENTOS\",\"\"],[\"transaction\",\"DURABILITY\",\"centos-transaction_doc_isolation_durability_persist_to_majority_6.6_P0\",\"CENTOS\",\"\"],[\"transaction\",\"DURABILITY\",\"centos-transaction_doc_isolation_durability_persist_to_majority_6.6_P1\",\"CENTOS\",\"\"],[\"transaction\",\"DURABILITY\",\"centos-transaction_durability_majority_and_persist_on_master_auto_retry_P0\",\"CENTOS\",\"\"],[\"transaction\",\"DURABILITY\",\"centos-transaction_durability_majority_and_persist_on_master_auto_retry_P1\",\"CENTOS\",\"\"],[\"transaction\",\"DURABILITY\",\"centos-transaction_durability_majority_auto_retry_P0\",\"CENTOS\",\"\"],[\"transaction\",\"DURABILITY\",\"centos-transaction_durability_majority_auto_retry_P1\",\"CENTOS\",\"\"],[\"transaction\",\"DURABILITY\",\"centos-transaction_durability_majority_auto_retry_defer_P0\",\"CENTOS\",\"\"],[\"transaction\",\"DURABILITY\",\"centos-transaction_durability_persist_to_majority_auto_retry_P0\",\"CENTOS\",\"\"],[\"transaction\",\"DURABILITY\",\"centos-transaction_durability_persist_to_majority_auto_retry_P1\",\"CENTOS\",\"\"],[\"transaction\",\"DURABILITY\",\"centos-transaction_multi_bucket_durability_majority_6.5_P0\",\"CENTOS\",\"\"],[\"transaction\",\"DURABILITY\",\"centos-transaction_multi_bucket_durability_majority_6.5_P0_Set1\",\"CENTOS\",\"\"],[\"transaction\",\"DURABILITY\",\"centos-transaction_multi_bucket_durability_majority_6.5_P0_Set2\",\"CENTOS\",\"\"],[\"transaction\",\"DURABILITY\",\"centos-transaction_multi_bucket_durability_majority_and_persist_on_master_6.5_P0\",\"CENTOS\",\"\"],[\"transaction\",\"DURABILITY\",\"centos-transaction_multi_bucket_durability_majority_defer_6.5_P0\",\"CENTOS\",\"\"],[\"transaction\",\"DURABILITY\",\"centos-transaction_multi_bucket_durability_majority_defer_6.5_P0_Set1\",\"CENTOS\",\"\"],[\"transaction\",\"DURABILITY\",\"centos-transaction_multi_bucket_durability_majority_defer_6.5_P0_Set2\",\"CENTOS\",\"\"],[\"transaction\",\"DURABILITY\",\"centos-transaction_multi_bucket_durability_persist_to_majority_6.5_P0\",\"CENTOS\",\"\"],[\"transaction\",\"DURABILITY\",\"centos-transaction_newfailover_durability_majority_6.5_P0\",\"CENTOS\",\"\"],[\"transaction\",\"DURABILITY\",\"centos-transaction_newfailover_durability_majority_6.5_P0_Set1\",\"CENTOS\",\"\"],[\"transaction\",\"DURABILITY\",\"centos-transaction_newfailover_durability_majority_and_persist_on_master_6.5_P0_Set1\",\"CENTOS\",\"\"],[\"transaction\",\"DURABILITY\",\"centos-transaction_newfailover_durability_persist_to_majority_6.5_P0_Set1\",\"CENTOS\",\"\"],[\"transaction\",\"DURABILITY\",\"centos-transaction_param_update_durability_majority_6.5_P0_Set1\",\"CENTOS\",\"\"],[\"transaction\",\"DURABILITY\",\"centos-transaction_param_update_durability_majority_and_persist_on_master_6.5_P0_Set1\",\"CENTOS\",\"\"],[\"transaction\",\"DURABILITY\",\"centos-transaction_param_update_durability_persist_to_majority_6.5_P0_Set1\",\"CENTOS\",\"\"],[\"transaction\",\"DURABILITY\",\"centos-transaction_rebalance_in_durability_majority_6.5_P0_Set1\",\"CENTOS\",\"\"],[\"transaction\",\"DURABILITY\",\"centos-transaction_rebalance_in_durability_majority_and_persist_on_master_6.5_P0_Set1\",\"CENTOS\",\"\"],[\"transaction\",\"DURABILITY\",\"centos-transaction_rebalance_in_durability_majority_defer_6.5_P0_Set1\",\"CENTOS\",\"\"],[\"transaction\",\"DURABILITY\",\"centos-transaction_rebalance_in_durability_persist_to_majority_6.5_P0_Set1\",\"CENTOS\",\"\"],[\"transaction\",\"DURABILITY\",\"centos-transaction_rebalance_in_out_durability_majority_6.5_P0\",\"CENTOS\",\"\"],[\"transaction\",\"DURABILITY\",\"centos-transaction_steady_state_durability_persist_to_majority_retry_6.5_P0\",\"CENTOS\",\"\"],[\"transaction\",\"DURABILITY\",\"centos-transaction_rebalance_in_out_durability_majority_and_persist_on_master_6.5_P0_Set1\",\"CENTOS\",\"\"],[\"transaction\",\"DURABILITY\",\"centos-transaction_rebalance_out_durability_majority_and_persist_on_master_6.5_P0_Set1\",\"CENTOS\",\"\"],[\"transaction\",\"DURABILITY\",\"centos-transaction_steady_state_durability_majority_and_persist_on_master_retry_6.5_P0\",\"CENTOS\",\"\"],[\"transaction\",\"DURABILITY\",\"centos-transaction_rebalance_out_durability_majority_defer_6.5_P0_Set1\",\"CENTOS\",\"\"],[\"transaction\",\"DURABILITY\",\"centos-transaction_steady_state_durability_majority_and_persist_on_master_6.5_P0\",\"CENTOS\",\"\"],[\"transaction\",\"DURABILITY\",\"centos-transaction_steady_state_durability_majority_and_persist_on_master_defer_6.5_P0\",\"CENTOS\",\"\"],[\"transaction\",\"DURABILITY\",\"centos-transaction_steady_state_durability_majority_defer_6.5_P0\",\"CENTOS\",\"\"],[\"transaction\",\"DURABILITY\",\"centos-transaction_steady_state_durability_persist_to_majority_defer_6.5_P0\",\"CENTOS\",\"\"],[\"transaction\",\"DURABILITY\",\"centos-transaction_steady_state_durability_persist_to_majority_6.5_P0\",\"CENTOS\",\"\"],[\"transaction\",\"DURABILITY\",\"centos-transaction_swap_rebalance_durability_majority_6.5_P0_Set1\",\"CENTOS\",\"\"],[\"transaction\",\"DURABILITY\",\"centos-transaction_steady_state_durability_majority_retry_6.5_P0\",\"CENTOS\",\"\"],[\"transaction\",\"DURABILITY\",\"centos-transaction_rebalance_out_durability_majority_6.5_P0\",\"CENTOS\",\"\"],[\"transaction\",\"DURABILITY\",\"centos-transaction_rebalance_out_durability_persist_to_majority_6.5_P0_Set1\",\"CENTOS\",\"\"],[\"transaction\",\"DURABILITY\",\"centos-transaction_steady_state_durability_majority_6.5_P0\",\"CENTOS\",\"\"],[\"transaction\",\"DURABILITY\",\"centos-transaction_swap_rebalance_durability_majority_and_persist_on_master_6.5_P0_Set1\",\"CENTOS\",\"\"],[\"transaction\",\"DURABILITY\",\"centos-transaction_rebalance_in_out_durability_majority_6.5_P0_Set1\",\"CENTOS\",\"\"],[\"transaction\",\"DURABILITY\",\"centos-transaction_rebalance_in_out_durability_persist_to_majority_6.5_P0_Set1\",\"CENTOS\",\"\"],[\"transaction\",\"DURABILITY\",\"centos-transaction_rebalance_in_out_durability_majority_defer_6.5_P0_Set1\",\"CENTOS\",\"\"],[\"transaction\",\"DURABILITY\",\"centos-transaction_steady_state_diff_doc_size_durability_majority_6.5_P0\",\"CENTOS\",\"\"],[\"transaction\",\"DURABILITY\",\"centos-transaction_steady_state_diff_doc_size_durability_majority_6.5_P0_Set1\",\"CENTOS\",\"\"],[\"transaction\",\"DURABILITY\",\"centos-transaction_swap_rebalance_durability_persist_to_majority_6.5_P0_Set1\",\"CENTOS\",\"\"],[\"transaction\",\"DURABILITY\",\"centos-transaction_rebalancein_6.5_durability_majority_P0\",\"CENTOS\",\"\"],[\"transaction\",\"DURABILITY\",\"centos-transaction_swap_rebalance_durability_majority_6.5_P0\",\"CENTOS\",\"\"],[\"transaction\",\"DURABILITY\",\"centos-transaction_rebalance_out_durability_majority_6.5_P0_Set1\",\"CENTOS\",\"\"]],\"fillcolor\":\"rgba(255,255,255,0)\",\"hoveron\":\"points\",\"hovertemplate\":\"area=%{customdata[0]}<br>minutes=%{x}<br>component=%{customdata[1]}<br>name=%{customdata[2]}<br>os=%{customdata[3]}<br>url=%{customdata[4]}<extra></extra>\",\"jitter\":0,\"legendgroup\":\"transaction\",\"line\":{\"color\":\"rgba(255,255,255,0)\"},\"marker\":{\"color\":\"#EF553B\",\"symbol\":\"line-ns-open\"},\"name\":\"transaction\",\"offsetgroup\":\"transaction\",\"opacity\":0.75,\"showlegend\":false,\"type\":\"box\",\"x\":[34,37,45,720,720,720,720,150,79,62,80,73,208,455,259,276,53,720,53,720,64,720,98,197,116,111,117,144,126,720,70,81,720,112,78,100,720,10,36,36,37,60,65,60,55,55,101,61,29,121,77,53,56,42,261,39,25,42,178,208,145,16,51,48,128,55,65,77,58,34,97,19,20,34],\"xaxis\":\"x2\",\"yaxis\":\"y2\"}],                        {\"bargap\":0,\"bargroupgap\":0,\"barmode\":\"stack\",\"legend\":{\"title\":{\"text\":\"area\"},\"tracegroupgap\":0},\"margin\":{\"t\":60},\"template\":{\"data\":{\"bar\":[{\"error_x\":{\"color\":\"#2a3f5f\"},\"error_y\":{\"color\":\"#2a3f5f\"},\"marker\":{\"line\":{\"color\":\"#E5ECF6\",\"width\":0.5},\"pattern\":{\"fillmode\":\"overlay\",\"size\":10,\"solidity\":0.2}},\"type\":\"bar\"}],\"barpolar\":[{\"marker\":{\"line\":{\"color\":\"#E5ECF6\",\"width\":0.5},\"pattern\":{\"fillmode\":\"overlay\",\"size\":10,\"solidity\":0.2}},\"type\":\"barpolar\"}],\"carpet\":[{\"aaxis\":{\"endlinecolor\":\"#2a3f5f\",\"gridcolor\":\"white\",\"linecolor\":\"white\",\"minorgridcolor\":\"white\",\"startlinecolor\":\"#2a3f5f\"},\"baxis\":{\"endlinecolor\":\"#2a3f5f\",\"gridcolor\":\"white\",\"linecolor\":\"white\",\"minorgridcolor\":\"white\",\"startlinecolor\":\"#2a3f5f\"},\"type\":\"carpet\"}],\"choropleth\":[{\"colorbar\":{\"outlinewidth\":0,\"ticks\":\"\"},\"type\":\"choropleth\"}],\"contour\":[{\"colorbar\":{\"outlinewidth\":0,\"ticks\":\"\"},\"colorscale\":[[0.0,\"#0d0887\"],[0.1111111111111111,\"#46039f\"],[0.2222222222222222,\"#7201a8\"],[0.3333333333333333,\"#9c179e\"],[0.4444444444444444,\"#bd3786\"],[0.5555555555555556,\"#d8576b\"],[0.6666666666666666,\"#ed7953\"],[0.7777777777777778,\"#fb9f3a\"],[0.8888888888888888,\"#fdca26\"],[1.0,\"#f0f921\"]],\"type\":\"contour\"}],\"contourcarpet\":[{\"colorbar\":{\"outlinewidth\":0,\"ticks\":\"\"},\"type\":\"contourcarpet\"}],\"heatmap\":[{\"colorbar\":{\"outlinewidth\":0,\"ticks\":\"\"},\"colorscale\":[[0.0,\"#0d0887\"],[0.1111111111111111,\"#46039f\"],[0.2222222222222222,\"#7201a8\"],[0.3333333333333333,\"#9c179e\"],[0.4444444444444444,\"#bd3786\"],[0.5555555555555556,\"#d8576b\"],[0.6666666666666666,\"#ed7953\"],[0.7777777777777778,\"#fb9f3a\"],[0.8888888888888888,\"#fdca26\"],[1.0,\"#f0f921\"]],\"type\":\"heatmap\"}],\"heatmapgl\":[{\"colorbar\":{\"outlinewidth\":0,\"ticks\":\"\"},\"colorscale\":[[0.0,\"#0d0887\"],[0.1111111111111111,\"#46039f\"],[0.2222222222222222,\"#7201a8\"],[0.3333333333333333,\"#9c179e\"],[0.4444444444444444,\"#bd3786\"],[0.5555555555555556,\"#d8576b\"],[0.6666666666666666,\"#ed7953\"],[0.7777777777777778,\"#fb9f3a\"],[0.8888888888888888,\"#fdca26\"],[1.0,\"#f0f921\"]],\"type\":\"heatmapgl\"}],\"histogram\":[{\"marker\":{\"pattern\":{\"fillmode\":\"overlay\",\"size\":10,\"solidity\":0.2}},\"type\":\"histogram\"}],\"histogram2d\":[{\"colorbar\":{\"outlinewidth\":0,\"ticks\":\"\"},\"colorscale\":[[0.0,\"#0d0887\"],[0.1111111111111111,\"#46039f\"],[0.2222222222222222,\"#7201a8\"],[0.3333333333333333,\"#9c179e\"],[0.4444444444444444,\"#bd3786\"],[0.5555555555555556,\"#d8576b\"],[0.6666666666666666,\"#ed7953\"],[0.7777777777777778,\"#fb9f3a\"],[0.8888888888888888,\"#fdca26\"],[1.0,\"#f0f921\"]],\"type\":\"histogram2d\"}],\"histogram2dcontour\":[{\"colorbar\":{\"outlinewidth\":0,\"ticks\":\"\"},\"colorscale\":[[0.0,\"#0d0887\"],[0.1111111111111111,\"#46039f\"],[0.2222222222222222,\"#7201a8\"],[0.3333333333333333,\"#9c179e\"],[0.4444444444444444,\"#bd3786\"],[0.5555555555555556,\"#d8576b\"],[0.6666666666666666,\"#ed7953\"],[0.7777777777777778,\"#fb9f3a\"],[0.8888888888888888,\"#fdca26\"],[1.0,\"#f0f921\"]],\"type\":\"histogram2dcontour\"}],\"mesh3d\":[{\"colorbar\":{\"outlinewidth\":0,\"ticks\":\"\"},\"type\":\"mesh3d\"}],\"parcoords\":[{\"line\":{\"colorbar\":{\"outlinewidth\":0,\"ticks\":\"\"}},\"type\":\"parcoords\"}],\"pie\":[{\"automargin\":true,\"type\":\"pie\"}],\"scatter\":[{\"marker\":{\"colorbar\":{\"outlinewidth\":0,\"ticks\":\"\"}},\"type\":\"scatter\"}],\"scatter3d\":[{\"line\":{\"colorbar\":{\"outlinewidth\":0,\"ticks\":\"\"}},\"marker\":{\"colorbar\":{\"outlinewidth\":0,\"ticks\":\"\"}},\"type\":\"scatter3d\"}],\"scattercarpet\":[{\"marker\":{\"colorbar\":{\"outlinewidth\":0,\"ticks\":\"\"}},\"type\":\"scattercarpet\"}],\"scattergeo\":[{\"marker\":{\"colorbar\":{\"outlinewidth\":0,\"ticks\":\"\"}},\"type\":\"scattergeo\"}],\"scattergl\":[{\"marker\":{\"colorbar\":{\"outlinewidth\":0,\"ticks\":\"\"}},\"type\":\"scattergl\"}],\"scattermapbox\":[{\"marker\":{\"colorbar\":{\"outlinewidth\":0,\"ticks\":\"\"}},\"type\":\"scattermapbox\"}],\"scatterpolar\":[{\"marker\":{\"colorbar\":{\"outlinewidth\":0,\"ticks\":\"\"}},\"type\":\"scatterpolar\"}],\"scatterpolargl\":[{\"marker\":{\"colorbar\":{\"outlinewidth\":0,\"ticks\":\"\"}},\"type\":\"scatterpolargl\"}],\"scatterternary\":[{\"marker\":{\"colorbar\":{\"outlinewidth\":0,\"ticks\":\"\"}},\"type\":\"scatterternary\"}],\"surface\":[{\"colorbar\":{\"outlinewidth\":0,\"ticks\":\"\"},\"colorscale\":[[0.0,\"#0d0887\"],[0.1111111111111111,\"#46039f\"],[0.2222222222222222,\"#7201a8\"],[0.3333333333333333,\"#9c179e\"],[0.4444444444444444,\"#bd3786\"],[0.5555555555555556,\"#d8576b\"],[0.6666666666666666,\"#ed7953\"],[0.7777777777777778,\"#fb9f3a\"],[0.8888888888888888,\"#fdca26\"],[1.0,\"#f0f921\"]],\"type\":\"surface\"}],\"table\":[{\"cells\":{\"fill\":{\"color\":\"#EBF0F8\"},\"line\":{\"color\":\"white\"}},\"header\":{\"fill\":{\"color\":\"#C8D4E3\"},\"line\":{\"color\":\"white\"}},\"type\":\"table\"}]},\"layout\":{\"annotationdefaults\":{\"arrowcolor\":\"#2a3f5f\",\"arrowhead\":0,\"arrowwidth\":1},\"autotypenumbers\":\"strict\",\"coloraxis\":{\"colorbar\":{\"outlinewidth\":0,\"ticks\":\"\"}},\"colorscale\":{\"diverging\":[[0,\"#8e0152\"],[0.1,\"#c51b7d\"],[0.2,\"#de77ae\"],[0.3,\"#f1b6da\"],[0.4,\"#fde0ef\"],[0.5,\"#f7f7f7\"],[0.6,\"#e6f5d0\"],[0.7,\"#b8e186\"],[0.8,\"#7fbc41\"],[0.9,\"#4d9221\"],[1,\"#276419\"]],\"sequential\":[[0.0,\"#0d0887\"],[0.1111111111111111,\"#46039f\"],[0.2222222222222222,\"#7201a8\"],[0.3333333333333333,\"#9c179e\"],[0.4444444444444444,\"#bd3786\"],[0.5555555555555556,\"#d8576b\"],[0.6666666666666666,\"#ed7953\"],[0.7777777777777778,\"#fb9f3a\"],[0.8888888888888888,\"#fdca26\"],[1.0,\"#f0f921\"]],\"sequentialminus\":[[0.0,\"#0d0887\"],[0.1111111111111111,\"#46039f\"],[0.2222222222222222,\"#7201a8\"],[0.3333333333333333,\"#9c179e\"],[0.4444444444444444,\"#bd3786\"],[0.5555555555555556,\"#d8576b\"],[0.6666666666666666,\"#ed7953\"],[0.7777777777777778,\"#fb9f3a\"],[0.8888888888888888,\"#fdca26\"],[1.0,\"#f0f921\"]]},\"colorway\":[\"#636efa\",\"#EF553B\",\"#00cc96\",\"#ab63fa\",\"#FFA15A\",\"#19d3f3\",\"#FF6692\",\"#B6E880\",\"#FF97FF\",\"#FECB52\"],\"font\":{\"color\":\"#2a3f5f\"},\"geo\":{\"bgcolor\":\"white\",\"lakecolor\":\"white\",\"landcolor\":\"#E5ECF6\",\"showlakes\":true,\"showland\":true,\"subunitcolor\":\"white\"},\"hoverlabel\":{\"align\":\"left\"},\"hovermode\":\"closest\",\"mapbox\":{\"style\":\"light\"},\"paper_bgcolor\":\"white\",\"plot_bgcolor\":\"#E5ECF6\",\"polar\":{\"angularaxis\":{\"gridcolor\":\"white\",\"linecolor\":\"white\",\"ticks\":\"\"},\"bgcolor\":\"#E5ECF6\",\"radialaxis\":{\"gridcolor\":\"white\",\"linecolor\":\"white\",\"ticks\":\"\"}},\"scene\":{\"xaxis\":{\"backgroundcolor\":\"#E5ECF6\",\"gridcolor\":\"white\",\"gridwidth\":2,\"linecolor\":\"white\",\"showbackground\":true,\"ticks\":\"\",\"zerolinecolor\":\"white\"},\"yaxis\":{\"backgroundcolor\":\"#E5ECF6\",\"gridcolor\":\"white\",\"gridwidth\":2,\"linecolor\":\"white\",\"showbackground\":true,\"ticks\":\"\",\"zerolinecolor\":\"white\"},\"zaxis\":{\"backgroundcolor\":\"#E5ECF6\",\"gridcolor\":\"white\",\"gridwidth\":2,\"linecolor\":\"white\",\"showbackground\":true,\"ticks\":\"\",\"zerolinecolor\":\"white\"}},\"shapedefaults\":{\"line\":{\"color\":\"#2a3f5f\"}},\"ternary\":{\"aaxis\":{\"gridcolor\":\"white\",\"linecolor\":\"white\",\"ticks\":\"\"},\"baxis\":{\"gridcolor\":\"white\",\"linecolor\":\"white\",\"ticks\":\"\"},\"bgcolor\":\"#E5ECF6\",\"caxis\":{\"gridcolor\":\"white\",\"linecolor\":\"white\",\"ticks\":\"\"}},\"title\":{\"x\":0.05},\"xaxis\":{\"automargin\":true,\"gridcolor\":\"white\",\"linecolor\":\"white\",\"ticks\":\"\",\"title\":{\"standoff\":15},\"zerolinecolor\":\"white\",\"zerolinewidth\":2},\"yaxis\":{\"automargin\":true,\"gridcolor\":\"white\",\"linecolor\":\"white\",\"ticks\":\"\",\"title\":{\"standoff\":15},\"zerolinecolor\":\"white\",\"zerolinewidth\":2}}},\"xaxis\":{\"anchor\":\"y\",\"domain\":[0.0,1.0],\"title\":{\"text\":\"Minutes\"}},\"xaxis2\":{\"anchor\":\"y2\",\"domain\":[0.0,1.0],\"matches\":\"x\",\"showgrid\":true,\"showticklabels\":false},\"yaxis\":{\"anchor\":\"x\",\"domain\":[0.0,0.7326],\"title\":{\"text\":\"Failures\"}},\"yaxis2\":{\"anchor\":\"x2\",\"domain\":[0.7426,1.0],\"matches\":\"y2\",\"showgrid\":false,\"showline\":false,\"showticklabels\":false,\"ticks\":\"\"}},                        {\"responsive\": true}                    ).then(function(){\n",
       "                            \n",
       "var gd = document.getElementById('b1f2cd66-67cb-436b-9473-f64a4da831a1');\n",
       "var x = new MutationObserver(function (mutations, observer) {{\n",
       "        var display = window.getComputedStyle(gd).display;\n",
       "        if (!display || display === 'none') {{\n",
       "            console.log([gd, 'removed!']);\n",
       "            Plotly.purge(gd);\n",
       "            observer.disconnect();\n",
       "        }}\n",
       "}});\n",
       "\n",
       "// Listen for the removal of the full notebook cells\n",
       "var notebookContainer = gd.closest('#notebook-container');\n",
       "if (notebookContainer) {{\n",
       "    x.observe(notebookContainer, {childList: true});\n",
       "}}\n",
       "\n",
       "// Listen for the clearing of the current output cell\n",
       "var outputEl = gd.closest('.output');\n",
       "if (outputEl) {{\n",
       "    x.observe(outputEl, {childList: true});\n",
       "}}\n",
       "\n",
       "                        })                };                });            </script>        </div>"
      ]
     },
     "metadata": {},
     "output_type": "display_data"
    }
   ],
   "source": [
    "hist_fig = px.histogram(duration, x=\"minutes\", y=\"fail_count\", color=\"area\", hover_data=duration.columns, marginal=\"rug\")\n",
    "hist_fig.update_layout(barmode=bar_mode, bargroupgap=0, bargap=0, xaxis_title_text=\"Minutes\", yaxis_title_text=\"Failures\")\n",
    "hist_fig.update_traces(opacity=0.75)\n",
    "\n",
    "hist_fig.show()"
   ]
  },
  {
   "cell_type": "code",
   "execution_count": null,
   "id": "76b8da38-52f4-44f4-b7f0-d8fc3b774337",
   "metadata": {},
   "outputs": [],
   "source": []
  },
  {
   "cell_type": "code",
   "execution_count": null,
   "id": "1f271fad-5d5d-487f-9c93-58a4743ea72a",
   "metadata": {},
   "outputs": [],
   "source": []
  }
 ],
 "metadata": {
  "celltoolbar": "Edit Metadata",
  "kernelspec": {
   "display_name": "Python 3",
   "language": "python",
   "name": "python3"
  },
  "language_info": {
   "codemirror_mode": {
    "name": "ipython",
    "version": 3
   },
   "file_extension": ".py",
   "mimetype": "text/x-python",
   "name": "python",
   "nbconvert_exporter": "python",
   "pygments_lexer": "ipython3",
   "version": "3.6.8"
  },
  "toc-autonumbering": true,
  "toc-showcode": true,
  "toc-showmarkdowntxt": false,
  "toc-showtags": true
 },
 "nbformat": 4,
 "nbformat_minor": 5
}
